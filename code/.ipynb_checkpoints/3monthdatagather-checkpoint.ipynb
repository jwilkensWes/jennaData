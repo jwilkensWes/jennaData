{
 "cells": [
  {
   "cell_type": "markdown",
   "id": "d796669b-298a-40e8-9e89-357b5d4ab21f",
   "metadata": {},
   "source": [
    "GEE Index Collection"
   ]
  },
  {
   "cell_type": "code",
   "execution_count": 2,
   "id": "d1195d05-f811-4eaa-94e3-2fd7eb16d894",
   "metadata": {
    "tags": []
   },
   "outputs": [],
   "source": [
    "## GEE setup\n",
    "import ee\n",
    "ee.Initialize()"
   ]
  },
  {
   "cell_type": "code",
   "execution_count": 3,
   "id": "96bb3116-ad06-4b96-aafe-59027faa5a29",
   "metadata": {},
   "outputs": [],
   "source": [
    "# collections\n",
    "l8sr = ee.ImageCollection('LANDSAT/LC08/C02/T1_L2') ## land 8\n",
    "pts = ee.FeatureCollection('projects/poulos-gee/assets/fire_ign')\n",
    "l8bands = ['SR_B5', 'SR_B4', 'SR_B6', 'SR_B3']"
   ]
  },
  {
   "cell_type": "code",
   "execution_count": 4,
   "id": "3965fce3-120d-438d-b8f2-6ae5849a9371",
   "metadata": {
    "tags": []
   },
   "outputs": [],
   "source": [
    "# index calculations\n",
    "# ndvi 8 \n",
    "def make_ndvi_lan8(image):\n",
    "    nir = image.select('SR_B5')\n",
    "    red = image.select('SR_B4')\n",
    "    ndvi = nir.subtract(red).divide(nir.add(red)).rename('NDVI')\n",
    "    return ndvi\n",
    "# ndmi 8\n",
    "def make_ndmi_lan8(image):\n",
    "    nir = image.select('SR_B5')\n",
    "    swir = image.select('SR_B6')\n",
    "    ndmi = nir.subtract(swir).divide(nir.add(swir)).rename('NDMI')\n",
    "    return ndmi\n",
    "# ndwi 8\n",
    "def make_ndwi_lan8(image):\n",
    "    green = image.select('SR_B3')\n",
    "    nir = image.select('SR_B5')\n",
    "    ndwi = green.subtract(nir).divide(green.add(nir)).rename('NDWI')\n",
    "    return ndwi\n",
    "# cloud mask function\n",
    "def cloud_mask_lan8(img):\n",
    "    cloud_mask = img.select('QA_PIXEL').bitwiseAnd(ee.Number.parse('0000001111', 2)).eq(0)\n",
    "    return(img.select(l8bands).updateMask(cloud_mask))"
   ]
  },
  {
   "cell_type": "code",
   "execution_count": 5,
   "id": "d7d4be84-96b3-4449-818b-1bfd8e35d8e9",
   "metadata": {},
   "outputs": [],
   "source": [
    "## cloud mask and make indexs\n",
    "\n",
    "# clouds\n",
    "l8cloud = l8sr.map(cloud_mask_lan8)\n",
    "# ndvi\n",
    "l8ndvi = l8cloud.map(make_ndvi_lan8)\n",
    "# ndmi\n",
    "l8ndmi = l8cloud.map(make_ndmi_lan8)\n",
    "# ndwi\n",
    "l8ndwi = l8cloud.map(make_ndwi_lan8)\n"
   ]
  },
  {
   "cell_type": "code",
   "execution_count": 7,
   "id": "b2d32db6-6e10-47ba-ad88-bcfb450ec9d4",
   "metadata": {
    "tags": []
   },
   "outputs": [
    {
     "name": "stdout",
     "output_type": "stream",
     "text": [
      "2019-05-16\n",
      "2019-02-16\n"
     ]
    }
   ],
   "source": [
    "# testing\n",
    "# check to see if fire_ign imported correctly\n",
    "ptx = pts.first()\n",
    "\n",
    "# can we add columns to feature colletion\n",
    "# add featrue tes\n",
    "\n",
    "# def add_feat(col):\n",
    "#     return(col.set('num', 1).set('char', 4))\n",
    "# pts2 = pts.map(add_feat)\n",
    "# pts2.first().getInfo()\n",
    "\n",
    "# f = ptx.get('fire')\n",
    "# ptx.getInfo()\n",
    "\n",
    "# pt = ee.Feature(ptx).buffer(15)\n",
    "# pt.getInfo()\n",
    "\n",
    "# start = pt.get('prior3m_ign')\n",
    "# end = pt.get('ignitiondate')\n",
    "# tndvi = l8ndvi.filterDate(start, end)\n",
    "# tndvi.first().getInfo()\n",
    "\n",
    "# test to see if buffer works\n",
    "# bufpts = pts.map(buf)\n",
    "\n",
    "\n",
    "# z = bufpts.map(zonal_ndvi)\n",
    "# z.first().getInfo()\n",
    "\n",
    "## testing data set\n",
    "#tpts = pts.limit(2)\n",
    "#buftpts = tpts.map(buf)\n",
    "#print('buffered')\n",
    "#z = buftpts.map(zonal_ndvi)\n",
    "#print('mapped')\n",
    "#z\n",
    "\n",
    "\n",
    "\n",
    "\n",
    "col = ee.Feature(ptx).buffer(15)\n",
    "ign = col.get('ignitiondate')\n",
    "mon3 = col.get('prior3m_ign')\n",
    "img = l8ndvi.filterDate(mon3, ign)\n",
    "    \n",
    "def zone(imgcol):\n",
    "    reg = imgcol.reduceRegions(\n",
    "            reducer = ee.Reducer.mean(),\n",
    "            collection = col,\n",
    "            scale = 30)\n",
    "    return reg\n",
    "    \n",
    "zstat = img.map(zone)\n",
    "print(ign.getInfo())\n",
    "print(mon3.getInfo())"
   ]
  },
  {
   "cell_type": "code",
   "execution_count": 6,
   "id": "e151d445-6260-47ee-a5c0-18265243d346",
   "metadata": {
    "tags": []
   },
   "outputs": [
    {
     "name": "stdout",
     "output_type": "stream",
     "text": [
      "t\n"
     ]
    }
   ],
   "source": [
    "print('t')"
   ]
  },
  {
   "cell_type": "code",
   "execution_count": 5,
   "id": "a73eb1f8-ad65-477f-bee2-f961bfbef6b1",
   "metadata": {
    "tags": []
   },
   "outputs": [],
   "source": [
    "## new functions\n",
    "\n",
    "# buffer\n",
    "def buf(col):\n",
    "    pt = ee.Feature(col).buffer(15)\n",
    "    return(pt)\n",
    "\n",
    "# zonal stats\n",
    "def zonal_ndvi(col):\n",
    "    ign = col.get('ignitiondate')\n",
    "    mon3 = col.get('prior3m_ign')\n",
    "    img = l8ndvi.filterDate(mon3, ign)\n",
    "    \n",
    "    def zone(imgcol):\n",
    "        reg = imgcol.reduceRegions(\n",
    "                reducer = ee.Reducer.mean(),\n",
    "                collection = col,\n",
    "                scale = 30)\n",
    "        return reg\n",
    "    \n",
    "    zstat = img.map(zone)\n",
    "    return zstat\n",
    "\n",
    "# add index function\n",
    "def add_index(col):\n",
    "    ign = col.get('ignitiondate')\n",
    "    mon3 = col.get('prior3m_ign')\n",
    "    \n",
    "    return(col.set('ndvi', )\n",
    "           .set('ndwi', )\n",
    "           .set('ndmi', ))\n"
   ]
  },
  {
   "cell_type": "markdown",
   "id": "4b16d408-2275-42b1-abe8-e086fa04a9e7",
   "metadata": {},
   "source": [
    "Steps to take\n",
    "1. Import pts\n",
    "2. make indexs and cloud mask\n",
    "3. for each point get images from a 3 month period before "
   ]
  }
 ],
 "metadata": {
  "kernelspec": {
   "display_name": "Python 3 (ipykernel)",
   "language": "python",
   "name": "python3"
  },
  "language_info": {
   "codemirror_mode": {
    "name": "ipython",
    "version": 3
   },
   "file_extension": ".py",
   "mimetype": "text/x-python",
   "name": "python",
   "nbconvert_exporter": "python",
   "pygments_lexer": "ipython3",
   "version": "3.10.9"
  }
 },
 "nbformat": 4,
 "nbformat_minor": 5
}
