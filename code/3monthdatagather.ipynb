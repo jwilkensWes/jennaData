{
  "cells": [
    {
      "cell_type": "markdown",
      "metadata": {
        "id": "view-in-github",
        "colab_type": "text"
      },
      "source": [
        "<a href=\"https://colab.research.google.com/github/jwilkensWes/jennadata/blob/main/3monthdatagather.ipynb\" target=\"_parent\"><img src=\"https://colab.research.google.com/assets/colab-badge.svg\" alt=\"Open In Colab\"/></a>"
      ]
    },
    {
      "cell_type": "markdown",
      "id": "d796669b-298a-40e8-9e89-357b5d4ab21f",
      "metadata": {
        "id": "d796669b-298a-40e8-9e89-357b5d4ab21f"
      },
      "source": [
        "GEE Index Collection"
      ]
    },
    {
      "cell_type": "code",
      "execution_count": null,
      "id": "d1195d05-f811-4eaa-94e3-2fd7eb16d894",
      "metadata": {
        "tags": [],
        "id": "d1195d05-f811-4eaa-94e3-2fd7eb16d894",
        "outputId": "84ea44cf-ac9f-4892-f550-fd929aafeeed",
        "colab": {
          "base_uri": "https://localhost:8080/"
        }
      },
      "outputs": [
        {
          "output_type": "stream",
          "name": "stdout",
          "text": [
            "To authorize access needed by Earth Engine, open the following URL in a web browser and follow the instructions. If the web browser does not start automatically, please manually browse the URL below.\n",
            "\n",
            "    https://code.earthengine.google.com/client-auth?scopes=https%3A//www.googleapis.com/auth/earthengine%20https%3A//www.googleapis.com/auth/devstorage.full_control&request_id=DPMTf9H0st6US4g-uO25bLsdJhT_yuyz9WqyL39xOfo&tc=n0nwoF9n7YHNf3VtjUBl6ulCXpENRW0QLJShcni3800&cc=rBRgXio9MScvQ0Q3kWzAlVWnfVK50IIBlOVQXBzSdjw\n",
            "\n",
            "The authorization workflow will generate a code, which you should paste in the box below.\n",
            "Enter verification code: 4/1AfJohXkayfd1FupDitsjsM1n1UeloMXfvFaoFnTJQErHToIbcTxFPHITsNY\n",
            "\n",
            "Successfully saved authorization token.\n"
          ]
        }
      ],
      "source": [
        "## GEE setup\n",
        "import ee\n",
        "ee.Authenticate()\n",
        "ee.Initialize()"
      ]
    },
    {
      "cell_type": "code",
      "execution_count": null,
      "id": "96bb3116-ad06-4b96-aafe-59027faa5a29",
      "metadata": {
        "id": "96bb3116-ad06-4b96-aafe-59027faa5a29"
      },
      "outputs": [],
      "source": [
        "# collections\n",
        "l8sr = ee.ImageCollection('LANDSAT/LC08/C02/T1_L2') ## land 8\n",
        "pts = ee.FeatureCollection('projects/poulos-gee/assets/fire_ign')\n",
        "l8bands = ['SR_B5', 'SR_B4', 'SR_B6', 'SR_B3']"
      ]
    },
    {
      "cell_type": "code",
      "execution_count": null,
      "id": "3965fce3-120d-438d-b8f2-6ae5849a9371",
      "metadata": {
        "tags": [],
        "id": "3965fce3-120d-438d-b8f2-6ae5849a9371"
      },
      "outputs": [],
      "source": [
        "# index calculations\n",
        "# ndvi 8\n",
        "def make_ndvi_lan8(image):\n",
        "    nir = image.select('SR_B5')\n",
        "    red = image.select('SR_B4')\n",
        "    ndvi = nir.subtract(red).divide(nir.add(red)).rename('NDVI')\n",
        "    return ndvi\n",
        "# ndmi 8\n",
        "def make_ndmi_lan8(image):\n",
        "    nir = image.select('SR_B5')\n",
        "    swir = image.select('SR_B6')\n",
        "    ndmi = nir.subtract(swir).divide(nir.add(swir)).rename('NDMI')\n",
        "    return ndmi\n",
        "# ndwi 8\n",
        "def make_ndwi_lan8(image):\n",
        "    green = image.select('SR_B3')\n",
        "    nir = image.select('SR_B5')\n",
        "    ndwi = green.subtract(nir).divide(green.add(nir)).rename('NDWI')\n",
        "    return ndwi\n",
        "# cloud mask function\n",
        "def cloud_mask_lan8(img):\n",
        "    cloud_mask = img.select('QA_PIXEL').bitwiseAnd(ee.Number.parse('0000001111', 2)).eq(0)\n",
        "    return(img.select(l8bands).updateMask(cloud_mask))"
      ]
    },
    {
      "cell_type": "code",
      "execution_count": null,
      "id": "d7d4be84-96b3-4449-818b-1bfd8e35d8e9",
      "metadata": {
        "id": "d7d4be84-96b3-4449-818b-1bfd8e35d8e9"
      },
      "outputs": [],
      "source": [
        "## cloud mask and make indexs\n",
        "\n",
        "# clouds\n",
        "l8cloud = l8sr.map(cloud_mask_lan8)\n",
        "# ndvi\n",
        "l8ndvi = l8cloud.map(make_ndvi_lan8)\n",
        "# ndmi\n",
        "l8ndmi = l8cloud.map(make_ndmi_lan8)\n",
        "# ndwi\n",
        "l8ndwi = l8cloud.map(make_ndwi_lan8)\n"
      ]
    },
    {
      "cell_type": "code",
      "execution_count": null,
      "id": "a73eb1f8-ad65-477f-bee2-f961bfbef6b1",
      "metadata": {
        "tags": [],
        "id": "a73eb1f8-ad65-477f-bee2-f961bfbef6b1"
      },
      "outputs": [],
      "source": [
        "## new functions\n",
        "\n",
        "# buffer\n",
        "def buf(col):\n",
        "    pt = ee.Feature(col).buffer(15)\n",
        "    return(pt)\n",
        "\n",
        "# zonal stats\n",
        "def zonal_ndvi(col):\n",
        "    ign = col.get('ignitiondate')\n",
        "    mon3 = col.get('prior3m_ign')\n",
        "    img = l8ndvi.filterDate(mon3, ign)\n",
        "\n",
        "    def zone(imgcol):\n",
        "        reg = imgcol.reduceRegions(\n",
        "                reducer = ee.Reducer.mean(),\n",
        "                collection = col,\n",
        "                scale = 30)\n",
        "        return reg\n",
        "\n",
        "    zstat = img.map(zone)\n",
        "    return zstat\n",
        "\n"
      ]
    },
    {
      "cell_type": "code",
      "execution_count": null,
      "id": "b2d32db6-6e10-47ba-ad88-bcfb450ec9d4",
      "metadata": {
        "tags": [],
        "id": "b2d32db6-6e10-47ba-ad88-bcfb450ec9d4",
        "outputId": "c368f6e8-232b-4b89-c0ed-c019f845bafd",
        "colab": {
          "base_uri": "https://localhost:8080/"
        }
      },
      "outputs": [
        {
          "output_type": "stream",
          "name": "stdout",
          "text": [
            "{'type': 'Feature', 'geometry': {'type': 'Point', 'coordinates': [-111.37415099642493, 35.31043066225664]}, 'id': '00000000000000000029', 'properties': {'category': 'maroon 600', 'fire': 'maroon', 'fireID': 'AZ3530911140720190516', 'ignitiondate': '2019-05-16', 'objectid': 600, 'prior3m_ign': '2019-02-16'}}\n",
            "{'type': 'Feature', 'geometry': {'type': 'Polygon', 'coordinates': [[[-111.37415099642493, 35.31056564524592], [-111.37419719877595, 35.31056027291416], [-111.3742397234026, 35.31054458355853], [-111.37427518533279, 35.31051982605723], [-111.3743007617941, 35.31048797111459], [-111.37431441690735, 35.31045155439074], [-111.37431506374038, 35.310413474661004], [-111.37430265082321, 35.310376763072064], [-111.37427816623943, 35.310344341862645], [-111.37424355896997, 35.31031879175449], [-111.37420158375168, 35.31030214652893], [-111.37415558180085, 35.31029573114018], [-111.37410921485588, 35.31030005625074], [-111.37406617370813, 35.31031477758347], [-111.37402988442038, 35.3103387233255], [-111.3740032356162, 35.3103699874029], [-111.37398834854663, 35.31040608120198], [-111.37398640823668, 35.31044413166076], [-111.37399756915288, 35.310481109963305], [-111.37402094290218, 35.31051407263336], [-111.37405466894307, 35.31054039583604], [-111.3740960626819, 35.31055798423711], [-111.37414182916676, 35.31056543779383], [-111.37415099642493, 35.31056564524592]]]}, 'id': '00000000000000000029', 'properties': {'category': 'maroon 600', 'fire': 'maroon', 'fireID': 'AZ3530911140720190516', 'ignitiondate': '2019-05-16', 'objectid': 600, 'prior3m_ign': '2019-02-16'}}\n",
            "{'type': 'ImageCollection', 'bands': [], 'id': 'LANDSAT/LC08/C02/T1_L2', 'version': 1700222546799739, 'properties': {'type_name': 'ImageCollection', 'keywords': ['cfmask', 'cloud', 'fmask', 'global', 'l8sr', 'landsat', 'lasrc', 'lst', 'reflectance', 'sr', 'usgs'], 'visualization_1_bands': 'SR_B5,SR_B4,SR_B3', 'thumb': 'https://mw1.google.com/ges/dd/images/LANDSAT_SR_thumb.png', 'visualization_1_max': '30000.0', 'description': '<p>This dataset contains atmospherically corrected\\nsurface reflectance and land surface temperature derived from the data\\nproduced by the Landsat 8 OLI/TIRS sensors.\\nThese images contain 5 visible and near-infrared (VNIR) bands and\\n2 short-wave infrared (SWIR) bands processed to orthorectified surface\\nreflectance, and one thermal infrared (TIR) band processed to orthorectified\\nsurface temperature. They also contain intermediate bands used in\\ncalculation of the ST products, as well as QA bands.</p><p>Landsat 8 SR products are created with the Land Surface Reflectance Code\\n(LaSRC). All Collection 2 ST products are created with a single-channel\\nalgorithm jointly created by the Rochester Institute of Technology (RIT) and\\nNational Aeronautics and Space Administration (NASA)\\nJet Propulsion Laboratory (JPL).</p><p>Strips of collected data are packaged into overlapping &quot;scenes&quot; covering approximately\\n170km x 183km using a <a href=\"https://landsat.gsfc.nasa.gov/about/worldwide-reference-system\">standardized reference grid</a>.</p><p>Some assets have only SR data, in which case ST bands are present but empty.\\nFor assets with both ST and SR bands, &#39;PROCESSING_LEVEL&#39; is set to &#39;L2SP&#39;.\\nFor assets with only SR bands, &#39;PROCESSING_LEVEL&#39; is set to &#39;L2SR&#39;.</p><p><a href=\"/earth-engine/guides/landsat\">Additional documentation and usage examples.</a></p><p>Data provider notes:</p><ul><li><p>Data products must contain both optical and thermal data to be\\nsuccessfully processed to surface temperature, as ASTER NDVI is\\nrequired to temporally adjust the ASTER GED product to the target Landsat\\nscene. Therefore, night time acquisitions cannot be processed to\\nsurface temperature.</p></li><li><p>A known error exists in the surface temperature retrievals relative\\nto clouds and possibly cloud shadows. The characterization of these\\nissues has been documented by\\n<a href=\"https://doi.org/10.3390/rs61111244\">Cook et al., (2014)</a>.</p></li></ul><p><b>Provider: <a href=\"https://www.usgs.gov/core-science-systems/nli/landsat/landsat-collection-2-level-2-science-products\">USGS</a></b><br><p><b>Resolution</b><br>30 meters\\n</p><p><b>Revisit Interval</b><br>\\n  16 days\\n</p><p><b>Bands</b><table class=\"eecat\"><tr><th scope=\"col\">Name</th><th scope=\"col\">Units</th><th scope=\"col\">Min</th><th scope=\"col\">Max</th><th scope=\"col\">Scale</th><th scope=\"col\">Offset</th><th scope=\"col\">Wavelength</th><th scope=\"col\">Description</th></tr><tr><td>SR_B1</td><td></td><td>\\n          1\\n</td><td>\\n          65455\\n</td><td>2.75e-05</td><td>-0.2</td><td>0.435-0.451 &mu;m</td><td><p>Band 1 (ultra blue, coastal aerosol) surface reflectance</p></td></tr><tr><td>SR_B2</td><td></td><td>\\n          1\\n</td><td>\\n          65455\\n</td><td>2.75e-05</td><td>-0.2</td><td>0.452-0.512 &mu;m</td><td><p>Band 2 (blue) surface reflectance</p></td></tr><tr><td>SR_B3</td><td></td><td>\\n          1\\n</td><td>\\n          65455\\n</td><td>2.75e-05</td><td>-0.2</td><td>0.533-0.590 &mu;m</td><td><p>Band 3 (green) surface reflectance</p></td></tr><tr><td>SR_B4</td><td></td><td>\\n          1\\n</td><td>\\n          65455\\n</td><td>2.75e-05</td><td>-0.2</td><td>0.636-0.673 &mu;m</td><td><p>Band 4 (red) surface reflectance</p></td></tr><tr><td>SR_B5</td><td></td><td>\\n          1\\n</td><td>\\n          65455\\n</td><td>2.75e-05</td><td>-0.2</td><td>0.851-0.879 &mu;m</td><td><p>Band 5 (near infrared) surface reflectance</p></td></tr><tr><td>SR_B6</td><td></td><td>\\n          1\\n</td><td>\\n          65455\\n</td><td>2.75e-05</td><td>-0.2</td><td>1.566-1.651 &mu;m</td><td><p>Band 6 (shortwave infrared 1) surface reflectance</p></td></tr><tr><td>SR_B7</td><td></td><td>\\n          1\\n</td><td>\\n          65455\\n</td><td>2.75e-05</td><td>-0.2</td><td>2.107-2.294 &mu;m</td><td><p>Band 7 (shortwave infrared 2) surface reflectance</p></td></tr><tr><td>SR_QA_AEROSOL</td><td></td><td></td><td></td><td></td><td></td><td></td><td><p>Aerosol attributes</p></td></tr><tr><td colspan=100>\\n      Bitmask for SR_QA_AEROSOL\\n<ul><li>\\n          Bit 0: Fill\\n<ul></ul></li><li>\\n          Bit 1: Aerosol retrieval - valid\\n<ul></ul></li><li>\\n          Bit 2: Water pixel\\n<ul></ul></li><li>\\n          Bit 3: Unused\\n<ul></ul></li><li>\\n          Bit 4: Unused\\n<ul></ul></li><li>\\n          Bit 5: Interpolated Aerosol\\n<ul></ul></li><li>\\n          Bits 6-7: Aerosol Level\\n<ul><li>0: Climatology</li><li>1: Low</li><li>2: Medium</li><li>3: High</li></ul></li></ul></td></tr><tr><td>ST_B10</td><td>Kelvin</td><td>\\n          0\\n</td><td>\\n          65535\\n</td><td>0.00341802</td><td>149</td><td>10.60-11.19 &mu;m</td><td><p>Band 10 surface temperature.\\nIf &#39;PROCESSING_LEVEL&#39; is set to &#39;L2SR&#39;, this band is fully masked out.</p></td></tr><tr><td>ST_ATRAN</td><td></td><td>\\n          0\\n</td><td>\\n          10000\\n</td><td>0.0001</td><td></td><td></td><td><p>Atmospheric Transmittance.\\nIf &#39;PROCESSING_LEVEL&#39; is set to &#39;L2SR&#39;, this band is fully masked out.</p></td></tr><tr><td>ST_CDIST</td><td>km</td><td>\\n          0\\n</td><td>\\n          24000\\n</td><td>0.01</td><td></td><td></td><td><p>Pixel distance to cloud.\\nIf &#39;PROCESSING_LEVEL&#39; is set to &#39;L2SR&#39;, this band is fully masked out.</p></td></tr><tr><td>ST_DRAD</td><td>W/(m^2*sr*um)/ DN</td><td>\\n          0\\n</td><td>\\n          28000\\n</td><td>0.001</td><td></td><td></td><td><p>Downwelled Radiance.\\nIf &#39;PROCESSING_LEVEL&#39; is set to &#39;L2SR&#39;, this band is fully masked out.</p></td></tr><tr><td>ST_EMIS</td><td></td><td>\\n          0\\n</td><td>\\n          10000\\n</td><td>0.0001</td><td></td><td></td><td><p>Emissivity of Band 10 estimated from ASTER GED.\\nIf &#39;PROCESSING_LEVEL&#39; is set to &#39;L2SR&#39;, this band is fully masked out.</p></td></tr><tr><td>ST_EMSD</td><td></td><td>\\n          0\\n</td><td>\\n          10000\\n</td><td>0.0001</td><td></td><td></td><td><p>Emissivity standard deviation.\\nIf &#39;PROCESSING_LEVEL&#39; is set to &#39;L2SR&#39;, this band is fully masked out.</p></td></tr><tr><td>ST_QA</td><td>K</td><td>\\n          0\\n</td><td>\\n          32767\\n</td><td>0.01</td><td></td><td></td><td><p>Uncertainty of the Surface Temperature band.\\nIf &#39;PROCESSING_LEVEL&#39; is set to &#39;L2SR&#39;, this band is fully masked out.</p></td></tr><tr><td>ST_TRAD</td><td>W/(m^2*sr*um)/ DN</td><td>\\n          0\\n</td><td>\\n          22000\\n</td><td>0.001</td><td></td><td></td><td><p>Thermal band converted to radiance.\\nIf &#39;PROCESSING_LEVEL&#39; is set to &#39;L2SR&#39;, this band is fully masked out.</p></td></tr><tr><td>ST_URAD</td><td>W/(m^2*sr*um)/ DN</td><td>\\n          0\\n</td><td>\\n          28000\\n</td><td>0.001</td><td></td><td></td><td><p>Upwelled Radiance. If &#39;PROCESSING_LEVEL&#39; is set to &#39;L2SR&#39;, this band is fully masked out.</p></td></tr><tr><td>QA_PIXEL</td><td></td><td></td><td></td><td></td><td></td><td></td><td><p>Pixel quality attributes generated from the CFMASK algorithm.</p></td></tr><tr><td colspan=100>\\n      Bitmask for QA_PIXEL\\n<ul><li>\\n          Bit 0: Fill\\n<ul></ul></li><li>\\n          Bit 1: Dilated Cloud\\n<ul></ul></li><li>\\n          Bit 2: Cirrus (high confidence)\\n<ul></ul></li><li>\\n          Bit 3: Cloud\\n<ul></ul></li><li>\\n          Bit 4: Cloud Shadow\\n<ul></ul></li><li>\\n          Bit 5: Snow\\n<ul></ul></li><li>\\n          Bit 6: Clear\\n<ul><li>0: Cloud or Dilated Cloud bits are set</li><li>1: Cloud and Dilated Cloud bits are not set</li></ul></li><li>\\n          Bit 7: Water\\n<ul></ul></li><li>\\n          Bits 8-9: Cloud Confidence\\n<ul><li>0: None</li><li>1: Low</li><li>2: Medium</li><li>3: High</li></ul></li><li>\\n          Bits 10-11: Cloud Shadow Confidence\\n<ul><li>0: None</li><li>1: Low</li><li>2: Medium</li><li>3: High</li></ul></li><li>\\n          Bits 12-13: Snow/Ice Confidence\\n<ul><li>0: None</li><li>1: Low</li><li>2: Medium</li><li>3: High</li></ul></li><li>\\n          Bits 14-15: Cirrus Confidence\\n<ul><li>0: None</li><li>1: Low</li><li>2: Medium</li><li>3: High</li></ul></li></ul></td></tr><tr><td>QA_RADSAT</td><td></td><td></td><td></td><td></td><td></td><td></td><td><p>Radiometric saturation QA</p></td></tr><tr><td colspan=100>\\n      Bitmask for QA_RADSAT\\n<ul><li>\\n          Bit 0: Band 1 data saturated\\n<ul></ul></li><li>\\n          Bit 1: Band 2 data saturated\\n<ul></ul></li><li>\\n          Bit 2: Band 3 data saturated\\n<ul></ul></li><li>\\n          Bit 3: Band 4 data saturated\\n<ul></ul></li><li>\\n          Bit 4: Band 5 data saturated\\n<ul></ul></li><li>\\n          Bit 5: Band 6 data saturated\\n<ul></ul></li><li>\\n          Bit 6: Band 7 data saturated\\n<ul></ul></li><li>\\n          Bit 7: Unused\\n<ul></ul></li><li>\\n          Bit 8: Band 9 data saturated\\n<ul></ul></li><li>\\n          Bit 9: Unused\\n<ul></ul></li><li>\\n          Bit 10: Unused\\n<ul></ul></li><li>\\n          Bit 11: Terrain occlusion\\n<ul></ul></li></ul></td></tr></table><p><b>Image Properties</b><table class=\"eecat\"><tr><th scope=\"col\">Name</th><th scope=\"col\">Type</th><th scope=\"col\">Description</th></tr><tr><td>ALGORITHM_SOURCE_SURFACE_REFLECTANCE</td><td>STRING</td><td><p>Name and version of the surface reflectance algorithm.</p></td></tr><tr><td>ALGORITHM_SOURCE_SURFACE_TEMPERATURE</td><td>STRING</td><td><p>Name and version of the surface temperature algorithm.</p></td></tr><tr><td>CLOUD_COVER</td><td>DOUBLE</td><td><p>Percentage cloud cover (0-100), -1 = not calculated.</p></td></tr><tr><td>CLOUD_COVER_LAND</td><td>DOUBLE</td><td><p>Percentage cloud cover over land (0-100), -1 = not calculated.</p></td></tr><tr><td>COLLECTION_CATEGORY</td><td>STRING</td><td><p>Scene collection category, &quot;T1&quot; or &quot;T2&quot;.</p></td></tr><tr><td>DATA_SOURCE_AIR_TEMPERATURE</td><td>STRING</td><td><p>Air temperature data source.</p></td></tr><tr><td>DATA_SOURCE_ELEVATION</td><td>STRING</td><td><p>Elevation data source.</p></td></tr><tr><td>DATA_SOURCE_OZONE</td><td>STRING</td><td><p>Ozone data source.</p></td></tr><tr><td>DATA_SOURCE_PRESSURE</td><td>STRING</td><td><p>Pressure data source.</p></td></tr><tr><td>DATA_SOURCE_REANALYSIS</td><td>STRING</td><td><p>Reanalysis data source.</p></td></tr><tr><td>DATA_SOURCE_TIRS_STRAY_LIGHT_CORRECTION</td><td>STRING</td><td><p>TIRS stray light correction data source.</p></td></tr><tr><td>DATA_SOURCE_WATER_VAPOR</td><td>STRING</td><td><p>Water vapor data source.</p></td></tr><tr><td>DATE_PRODUCT_GENERATED</td><td>DOUBLE</td><td><p>Timestamp of the date when the product was generated.</p></td></tr><tr><td>EARTH_SUN_DISTANCE</td><td>DOUBLE</td><td><p>Earth-Sun distance (AU).</p></td></tr><tr><td>EPHEMERIS_TYPE</td><td>STRING</td><td><p>Identifier to inform the user of the orbital ephemeris type used:\\n&quot;DEFINITIVE&quot; or &quot;PREDICTIVE&quot;. If the field is not present, the user should\\nassume &quot;PREDICTIVE&quot;.</p></td></tr><tr><td>GEOMETRIC_RMSE_MODEL</td><td>DOUBLE</td><td><p>Combined RMSE (Root Mean Square Error) of the geometric\\nresiduals (meters) in both across-track and along-track\\ndirections.</p></td></tr><tr><td>GEOMETRIC_RMSE_MODEL_X</td><td>DOUBLE</td><td><p>RMSE (Root Mean Square Error) of the geometric residuals (meters)\\nmeasured on the GCPs (Ground Control Points) used in geometric\\nprecision correction in the across-track direction.</p></td></tr><tr><td>GEOMETRIC_RMSE_MODEL_Y</td><td>DOUBLE</td><td><p>RMSE (Root Mean Square Error) of the geometric residuals (meters)\\nmeasured on the GCPs (Ground Control Points) used in geometric\\nprecision correction in the along-track direction.</p></td></tr><tr><td>GEOMETRIC_RMSE_VERIFY</td><td>DOUBLE</td><td><p>RMSE of the geometric residuals (meters) measured on the\\nterrain-corrected product independently using GLS2000.</p></td></tr><tr><td>GROUND_CONTROL_POINTS_MODEL</td><td>DOUBLE</td><td><p>Number of GCPs used in the precision correction process.\\nThis parameter is only present if the PROCESSING_LEVEL is L1TP.</p></td></tr><tr><td>GROUND_CONTROL_POINTS_VERIFY</td><td>DOUBLE</td><td><p>Number of GCPs (Ground Control Points) used in the verification\\nof the terrain corrected product.</p></td></tr><tr><td>GROUND_CONTROL_POINTS_VERSION</td><td>DOUBLE</td><td><p>GCP dataset version used in the precision correction process. This\\nparameter is only present if the PROCESSING_LEVEL is L1TP.</p></td></tr><tr><td>IMAGE_QUALITY_OLI</td><td>INT</td><td><p>Image quality of the OLI bands.\\n1 = worst, 9 = best, 0 = quality not calculated.\\nFor Landsat 8, this parameter is adjusted downward for\\nscenes collected using the lower 12 bits from the OLI sensor\\n(TRUNCATION_OLI = &quot;LOWER&quot;).</p></td></tr><tr><td>IMAGE_QUALITY_TIRS</td><td>INT</td><td><p>Image quality of the TIRS bands.\\n1 = worst, 9 = best, 0 = quality not calculated.\\nIt is also adjusted downward for scenes processed with\\n&quot;SWITCHED&quot; for the TIRS_SSM_POSITION_STATUS value.</p></td></tr><tr><td>L1_DATE_PRODUCT_GENERATED</td><td>STRING</td><td><p>Product generation date for the corresponding L1 product.</p></td></tr><tr><td>L1_LANDSAT_PRODUCT_ID</td><td>STRING</td><td><p>Landsat Product Identifier for the corresponding L1 product.</p></td></tr><tr><td>L1_PROCESSING_LEVEL</td><td>STRING</td><td><p>Processing Level for the corresponding L1 product.</p></td></tr><tr><td>L1_PROCESSING_SOFTWARE_VERSION</td><td>STRING</td><td><p>Processing software version for the corresponding L1 product.</p></td></tr><tr><td>LANDSAT_PRODUCT_ID</td><td>STRING</td><td><p>Landsat Product Identifier</p></td></tr><tr><td>LANDSAT_SCENE_ID</td><td>STRING</td><td><p>Short Landsat Scene Identifier</p></td></tr><tr><td>PROCESSING_LEVEL</td><td>STRING</td><td><p>&quot;L2SP&quot; when both SR and LST bands are present, or &quot;L2SR&quot; when only\\nSR bands are present.</p></td></tr><tr><td>PROCESSING_SOFTWARE_VERSION</td><td>STRING</td><td><p>The processing software version that created the product.</p></td></tr><tr><td>ROLL_ANGLE</td><td>DOUBLE</td><td><p>The amount of spacecraft roll angle at the scene center. The roll value is\\ngiven in the Yaw Steering Frame (YSF) reference, whose x-axis is\\naligned with the instantaneous ground track velocity vector. Rolls about\\nthis x-axis go by the right-hand rule: a positive roll results in the\\ninstruments pointing to the left of the ground track, while a negative\\nroll results in the instrument pointing to the right.</p></td></tr><tr><td>SCENE_CENTER_TIME</td><td>STRING</td><td><p>Time of the observations as in ISO 8601 string.</p></td></tr><tr><td>SENSOR_ID</td><td>STRING</td><td><p>Name of the sensor.</p></td></tr><tr><td>SPACECRAFT_ID</td><td>STRING</td><td><p>Name of the spacecraft.</p></td></tr><tr><td>SUN_AZIMUTH</td><td>DOUBLE</td><td><p>Sun azimuth angle in degrees for the image center location at the\\nimage center acquisition time. A positive value indicates angles to the\\neast or clockwise from the north. A negative value indicates angles to\\nthe west or counterclockwise from the north.</p></td></tr><tr><td>SUN_ELEVATION</td><td>DOUBLE</td><td><p>Sun elevation angle in degrees for the image center location at the\\nimage center acquisition time. A positive value indicates a daytime\\nscene. A negative value indicates a nighttime scene.\\nNote: For reflectance calculation, the sun zenith angle is needed,\\nwhich is 90 - sun elevation angle.</p></td></tr><tr><td>TARGET_WRS_PATH</td><td>INT</td><td><p>Nearest WRS-2 path to the Line-ofSight (LOS) scene center of the image.</p></td></tr><tr><td>TARGET_WRS_ROW</td><td>INT</td><td><p>Nearest WRS-2 row to the LOS scene center of the image. Rows 880-889\\nare reserved for the north pole and 990-999 are reserved for the south\\npole, where WRS-2 is not defined.</p></td></tr><tr><td>TEMPERATURE_MAXIMUM_BAND_ST_B10</td><td>DOUBLE</td><td><p>Maximum achievable temperature value for Band 10.</p></td></tr><tr><td>TEMPERATURE_MINIMUM_BAND_ST_B10</td><td>DOUBLE</td><td><p>Minimum achievable temperature value for Band 10.</p></td></tr><tr><td>TIRS_SSM_MODEL</td><td>STRING</td><td><p>Indicates how the Landsat 8 TIRS Scene Select Mirror (SSM) position\\nwas determined.</p><ul><li><p>&quot;FINAL&quot; indicates final estimated encoder values generated after\\nthe switch event.</p></li><li><p>&quot;ACTUAL&quot; indicates actual encoder values.</p></li></ul></td></tr><tr><td>TIRS_SSM_POSITION_STATUS</td><td>STRING</td><td><ul><li><p>&quot;NOMINAL&quot; indicates the SSM was functioning normally for this scene.</p></li><li><p>&quot;SWITCHED&quot; indicates the SSM switched operating modes in the scene and\\nmay have TIRS image quality issues, which directly impact the\\nIMAGE_QUALITY_TIRS value.</p></li><li><p>&quot;ESTIMATED&quot; indicates the SSM position was estimated, which may not be\\nas accurate as the &quot;NOMINAL&quot; status.</p></li></ul></td></tr><tr><td>TRUNCATION_OLI</td><td>STRING</td><td><ul><li><p>&quot;LOWER&quot; indicates that the lower 12 bits were used.</p></li><li><p>&quot;UPPER&quot; indicates the upper 12 bits were used.</p></li></ul><p>The normal truncation mode is &quot;UPPER&quot;.</p></td></tr><tr><td>WRS_PATH</td><td>INT</td><td><p>WRS path number of scene.</p></td></tr><tr><td>WRS_ROW</td><td>INT</td><td><p>WRS row number of scene.</p></td></tr></table><p><b>Terms of Use</b><br><p>Landsat datasets are federally created data\\nand therefore reside in the public domain and may be used, transferred, or reproduced without copyright restriction.</p><p>Acknowledgement or credit of the USGS as data source should be provided\\nby including a line of text citation such as the example shown below.</p><p>(Product, Image, Photograph, or Dataset Name) courtesy of\\nthe U.S. Geological Survey</p><p>Example: Landsat-7 image courtesy of the U.S. Geological Survey</p><p>See the\\n<a href=\"https://www.usgs.gov/information-policies-and-instructions/usgs-visual-identity-system\">USGS Visual Identity System Guidance</a>\\nfor further details on proper citation and acknowledgement of USGS products.</p><style>\\n  table.eecat {\\n  border: 1px solid black;\\n  border-collapse: collapse;\\n  font-size: 13px;\\n  }\\n  table.eecat td, tr, th {\\n  text-align: left; vertical-align: top;\\n  border: 1px solid gray; padding: 3px;\\n  }\\n  td.nobreak { white-space: nowrap; }\\n</style>', 'source_tags': ['landsat', 'usgs'], 'visualization_1_name': 'Near Infrared (543)', 'visualization_0_max': '30000.0', 'title': 'USGS Landsat 8 Level 2, Collection 2, Tier 1', 'product_tags': ['global', 'sr', 'reflectance', 'l8sr', 'lst', 'cloud', 'lasrc', 'fmask', 'cfmask', 'lc08'], 'provider': 'USGS', 'visualization_1_min': '0.0', 'visualization_0_min': '0.0', 'visualization_0_name': 'True Color (432)', 'date_range': [1365638400000, 1654560000000], 'visualization_2_bands': 'SR_B7,SR_B5,SR_B3', 'visualization_2_name': 'Shortwave Infrared (753)', 'period': 0, 'visualization_2_min': '0.0', 'provider_url': 'https://www.usgs.gov/core-science-systems/nli/landsat/landsat-collection-2-level-2-science-products', 'sample': 'https://mw1.google.com/ges/dd/images/LANDSAT_SR_sample.png', 'tags': ['cfmask', 'cloud', 'fmask', 'global', 'l8sr', 'landsat', 'lasrc', 'lst', 'reflectance', 'sr', 'usgs'], 'visualization_2_max': '30000.0', 'visualization_0_bands': 'SR_B4,SR_B3,SR_B2'}, 'features': []}\n",
            "['NDVI']\n",
            "{'type': 'FeatureCollection', 'columns': {}, 'id': 'LANDSAT/LC08/C02/T1_L2', 'version': 1700222546799739, 'properties': {'type_name': 'ImageCollection', 'keywords': ['cfmask', 'cloud', 'fmask', 'global', 'l8sr', 'landsat', 'lasrc', 'lst', 'reflectance', 'sr', 'usgs'], 'visualization_1_bands': 'SR_B5,SR_B4,SR_B3', 'thumb': 'https://mw1.google.com/ges/dd/images/LANDSAT_SR_thumb.png', 'visualization_1_max': '30000.0', 'description': '<p>This dataset contains atmospherically corrected\\nsurface reflectance and land surface temperature derived from the data\\nproduced by the Landsat 8 OLI/TIRS sensors.\\nThese images contain 5 visible and near-infrared (VNIR) bands and\\n2 short-wave infrared (SWIR) bands processed to orthorectified surface\\nreflectance, and one thermal infrared (TIR) band processed to orthorectified\\nsurface temperature. They also contain intermediate bands used in\\ncalculation of the ST products, as well as QA bands.</p><p>Landsat 8 SR products are created with the Land Surface Reflectance Code\\n(LaSRC). All Collection 2 ST products are created with a single-channel\\nalgorithm jointly created by the Rochester Institute of Technology (RIT) and\\nNational Aeronautics and Space Administration (NASA)\\nJet Propulsion Laboratory (JPL).</p><p>Strips of collected data are packaged into overlapping &quot;scenes&quot; covering approximately\\n170km x 183km using a <a href=\"https://landsat.gsfc.nasa.gov/about/worldwide-reference-system\">standardized reference grid</a>.</p><p>Some assets have only SR data, in which case ST bands are present but empty.\\nFor assets with both ST and SR bands, &#39;PROCESSING_LEVEL&#39; is set to &#39;L2SP&#39;.\\nFor assets with only SR bands, &#39;PROCESSING_LEVEL&#39; is set to &#39;L2SR&#39;.</p><p><a href=\"/earth-engine/guides/landsat\">Additional documentation and usage examples.</a></p><p>Data provider notes:</p><ul><li><p>Data products must contain both optical and thermal data to be\\nsuccessfully processed to surface temperature, as ASTER NDVI is\\nrequired to temporally adjust the ASTER GED product to the target Landsat\\nscene. Therefore, night time acquisitions cannot be processed to\\nsurface temperature.</p></li><li><p>A known error exists in the surface temperature retrievals relative\\nto clouds and possibly cloud shadows. The characterization of these\\nissues has been documented by\\n<a href=\"https://doi.org/10.3390/rs61111244\">Cook et al., (2014)</a>.</p></li></ul><p><b>Provider: <a href=\"https://www.usgs.gov/core-science-systems/nli/landsat/landsat-collection-2-level-2-science-products\">USGS</a></b><br><p><b>Resolution</b><br>30 meters\\n</p><p><b>Revisit Interval</b><br>\\n  16 days\\n</p><p><b>Bands</b><table class=\"eecat\"><tr><th scope=\"col\">Name</th><th scope=\"col\">Units</th><th scope=\"col\">Min</th><th scope=\"col\">Max</th><th scope=\"col\">Scale</th><th scope=\"col\">Offset</th><th scope=\"col\">Wavelength</th><th scope=\"col\">Description</th></tr><tr><td>SR_B1</td><td></td><td>\\n          1\\n</td><td>\\n          65455\\n</td><td>2.75e-05</td><td>-0.2</td><td>0.435-0.451 &mu;m</td><td><p>Band 1 (ultra blue, coastal aerosol) surface reflectance</p></td></tr><tr><td>SR_B2</td><td></td><td>\\n          1\\n</td><td>\\n          65455\\n</td><td>2.75e-05</td><td>-0.2</td><td>0.452-0.512 &mu;m</td><td><p>Band 2 (blue) surface reflectance</p></td></tr><tr><td>SR_B3</td><td></td><td>\\n          1\\n</td><td>\\n          65455\\n</td><td>2.75e-05</td><td>-0.2</td><td>0.533-0.590 &mu;m</td><td><p>Band 3 (green) surface reflectance</p></td></tr><tr><td>SR_B4</td><td></td><td>\\n          1\\n</td><td>\\n          65455\\n</td><td>2.75e-05</td><td>-0.2</td><td>0.636-0.673 &mu;m</td><td><p>Band 4 (red) surface reflectance</p></td></tr><tr><td>SR_B5</td><td></td><td>\\n          1\\n</td><td>\\n          65455\\n</td><td>2.75e-05</td><td>-0.2</td><td>0.851-0.879 &mu;m</td><td><p>Band 5 (near infrared) surface reflectance</p></td></tr><tr><td>SR_B6</td><td></td><td>\\n          1\\n</td><td>\\n          65455\\n</td><td>2.75e-05</td><td>-0.2</td><td>1.566-1.651 &mu;m</td><td><p>Band 6 (shortwave infrared 1) surface reflectance</p></td></tr><tr><td>SR_B7</td><td></td><td>\\n          1\\n</td><td>\\n          65455\\n</td><td>2.75e-05</td><td>-0.2</td><td>2.107-2.294 &mu;m</td><td><p>Band 7 (shortwave infrared 2) surface reflectance</p></td></tr><tr><td>SR_QA_AEROSOL</td><td></td><td></td><td></td><td></td><td></td><td></td><td><p>Aerosol attributes</p></td></tr><tr><td colspan=100>\\n      Bitmask for SR_QA_AEROSOL\\n<ul><li>\\n          Bit 0: Fill\\n<ul></ul></li><li>\\n          Bit 1: Aerosol retrieval - valid\\n<ul></ul></li><li>\\n          Bit 2: Water pixel\\n<ul></ul></li><li>\\n          Bit 3: Unused\\n<ul></ul></li><li>\\n          Bit 4: Unused\\n<ul></ul></li><li>\\n          Bit 5: Interpolated Aerosol\\n<ul></ul></li><li>\\n          Bits 6-7: Aerosol Level\\n<ul><li>0: Climatology</li><li>1: Low</li><li>2: Medium</li><li>3: High</li></ul></li></ul></td></tr><tr><td>ST_B10</td><td>Kelvin</td><td>\\n          0\\n</td><td>\\n          65535\\n</td><td>0.00341802</td><td>149</td><td>10.60-11.19 &mu;m</td><td><p>Band 10 surface temperature.\\nIf &#39;PROCESSING_LEVEL&#39; is set to &#39;L2SR&#39;, this band is fully masked out.</p></td></tr><tr><td>ST_ATRAN</td><td></td><td>\\n          0\\n</td><td>\\n          10000\\n</td><td>0.0001</td><td></td><td></td><td><p>Atmospheric Transmittance.\\nIf &#39;PROCESSING_LEVEL&#39; is set to &#39;L2SR&#39;, this band is fully masked out.</p></td></tr><tr><td>ST_CDIST</td><td>km</td><td>\\n          0\\n</td><td>\\n          24000\\n</td><td>0.01</td><td></td><td></td><td><p>Pixel distance to cloud.\\nIf &#39;PROCESSING_LEVEL&#39; is set to &#39;L2SR&#39;, this band is fully masked out.</p></td></tr><tr><td>ST_DRAD</td><td>W/(m^2*sr*um)/ DN</td><td>\\n          0\\n</td><td>\\n          28000\\n</td><td>0.001</td><td></td><td></td><td><p>Downwelled Radiance.\\nIf &#39;PROCESSING_LEVEL&#39; is set to &#39;L2SR&#39;, this band is fully masked out.</p></td></tr><tr><td>ST_EMIS</td><td></td><td>\\n          0\\n</td><td>\\n          10000\\n</td><td>0.0001</td><td></td><td></td><td><p>Emissivity of Band 10 estimated from ASTER GED.\\nIf &#39;PROCESSING_LEVEL&#39; is set to &#39;L2SR&#39;, this band is fully masked out.</p></td></tr><tr><td>ST_EMSD</td><td></td><td>\\n          0\\n</td><td>\\n          10000\\n</td><td>0.0001</td><td></td><td></td><td><p>Emissivity standard deviation.\\nIf &#39;PROCESSING_LEVEL&#39; is set to &#39;L2SR&#39;, this band is fully masked out.</p></td></tr><tr><td>ST_QA</td><td>K</td><td>\\n          0\\n</td><td>\\n          32767\\n</td><td>0.01</td><td></td><td></td><td><p>Uncertainty of the Surface Temperature band.\\nIf &#39;PROCESSING_LEVEL&#39; is set to &#39;L2SR&#39;, this band is fully masked out.</p></td></tr><tr><td>ST_TRAD</td><td>W/(m^2*sr*um)/ DN</td><td>\\n          0\\n</td><td>\\n          22000\\n</td><td>0.001</td><td></td><td></td><td><p>Thermal band converted to radiance.\\nIf &#39;PROCESSING_LEVEL&#39; is set to &#39;L2SR&#39;, this band is fully masked out.</p></td></tr><tr><td>ST_URAD</td><td>W/(m^2*sr*um)/ DN</td><td>\\n          0\\n</td><td>\\n          28000\\n</td><td>0.001</td><td></td><td></td><td><p>Upwelled Radiance. If &#39;PROCESSING_LEVEL&#39; is set to &#39;L2SR&#39;, this band is fully masked out.</p></td></tr><tr><td>QA_PIXEL</td><td></td><td></td><td></td><td></td><td></td><td></td><td><p>Pixel quality attributes generated from the CFMASK algorithm.</p></td></tr><tr><td colspan=100>\\n      Bitmask for QA_PIXEL\\n<ul><li>\\n          Bit 0: Fill\\n<ul></ul></li><li>\\n          Bit 1: Dilated Cloud\\n<ul></ul></li><li>\\n          Bit 2: Cirrus (high confidence)\\n<ul></ul></li><li>\\n          Bit 3: Cloud\\n<ul></ul></li><li>\\n          Bit 4: Cloud Shadow\\n<ul></ul></li><li>\\n          Bit 5: Snow\\n<ul></ul></li><li>\\n          Bit 6: Clear\\n<ul><li>0: Cloud or Dilated Cloud bits are set</li><li>1: Cloud and Dilated Cloud bits are not set</li></ul></li><li>\\n          Bit 7: Water\\n<ul></ul></li><li>\\n          Bits 8-9: Cloud Confidence\\n<ul><li>0: None</li><li>1: Low</li><li>2: Medium</li><li>3: High</li></ul></li><li>\\n          Bits 10-11: Cloud Shadow Confidence\\n<ul><li>0: None</li><li>1: Low</li><li>2: Medium</li><li>3: High</li></ul></li><li>\\n          Bits 12-13: Snow/Ice Confidence\\n<ul><li>0: None</li><li>1: Low</li><li>2: Medium</li><li>3: High</li></ul></li><li>\\n          Bits 14-15: Cirrus Confidence\\n<ul><li>0: None</li><li>1: Low</li><li>2: Medium</li><li>3: High</li></ul></li></ul></td></tr><tr><td>QA_RADSAT</td><td></td><td></td><td></td><td></td><td></td><td></td><td><p>Radiometric saturation QA</p></td></tr><tr><td colspan=100>\\n      Bitmask for QA_RADSAT\\n<ul><li>\\n          Bit 0: Band 1 data saturated\\n<ul></ul></li><li>\\n          Bit 1: Band 2 data saturated\\n<ul></ul></li><li>\\n          Bit 2: Band 3 data saturated\\n<ul></ul></li><li>\\n          Bit 3: Band 4 data saturated\\n<ul></ul></li><li>\\n          Bit 4: Band 5 data saturated\\n<ul></ul></li><li>\\n          Bit 5: Band 6 data saturated\\n<ul></ul></li><li>\\n          Bit 6: Band 7 data saturated\\n<ul></ul></li><li>\\n          Bit 7: Unused\\n<ul></ul></li><li>\\n          Bit 8: Band 9 data saturated\\n<ul></ul></li><li>\\n          Bit 9: Unused\\n<ul></ul></li><li>\\n          Bit 10: Unused\\n<ul></ul></li><li>\\n          Bit 11: Terrain occlusion\\n<ul></ul></li></ul></td></tr></table><p><b>Image Properties</b><table class=\"eecat\"><tr><th scope=\"col\">Name</th><th scope=\"col\">Type</th><th scope=\"col\">Description</th></tr><tr><td>ALGORITHM_SOURCE_SURFACE_REFLECTANCE</td><td>STRING</td><td><p>Name and version of the surface reflectance algorithm.</p></td></tr><tr><td>ALGORITHM_SOURCE_SURFACE_TEMPERATURE</td><td>STRING</td><td><p>Name and version of the surface temperature algorithm.</p></td></tr><tr><td>CLOUD_COVER</td><td>DOUBLE</td><td><p>Percentage cloud cover (0-100), -1 = not calculated.</p></td></tr><tr><td>CLOUD_COVER_LAND</td><td>DOUBLE</td><td><p>Percentage cloud cover over land (0-100), -1 = not calculated.</p></td></tr><tr><td>COLLECTION_CATEGORY</td><td>STRING</td><td><p>Scene collection category, &quot;T1&quot; or &quot;T2&quot;.</p></td></tr><tr><td>DATA_SOURCE_AIR_TEMPERATURE</td><td>STRING</td><td><p>Air temperature data source.</p></td></tr><tr><td>DATA_SOURCE_ELEVATION</td><td>STRING</td><td><p>Elevation data source.</p></td></tr><tr><td>DATA_SOURCE_OZONE</td><td>STRING</td><td><p>Ozone data source.</p></td></tr><tr><td>DATA_SOURCE_PRESSURE</td><td>STRING</td><td><p>Pressure data source.</p></td></tr><tr><td>DATA_SOURCE_REANALYSIS</td><td>STRING</td><td><p>Reanalysis data source.</p></td></tr><tr><td>DATA_SOURCE_TIRS_STRAY_LIGHT_CORRECTION</td><td>STRING</td><td><p>TIRS stray light correction data source.</p></td></tr><tr><td>DATA_SOURCE_WATER_VAPOR</td><td>STRING</td><td><p>Water vapor data source.</p></td></tr><tr><td>DATE_PRODUCT_GENERATED</td><td>DOUBLE</td><td><p>Timestamp of the date when the product was generated.</p></td></tr><tr><td>EARTH_SUN_DISTANCE</td><td>DOUBLE</td><td><p>Earth-Sun distance (AU).</p></td></tr><tr><td>EPHEMERIS_TYPE</td><td>STRING</td><td><p>Identifier to inform the user of the orbital ephemeris type used:\\n&quot;DEFINITIVE&quot; or &quot;PREDICTIVE&quot;. If the field is not present, the user should\\nassume &quot;PREDICTIVE&quot;.</p></td></tr><tr><td>GEOMETRIC_RMSE_MODEL</td><td>DOUBLE</td><td><p>Combined RMSE (Root Mean Square Error) of the geometric\\nresiduals (meters) in both across-track and along-track\\ndirections.</p></td></tr><tr><td>GEOMETRIC_RMSE_MODEL_X</td><td>DOUBLE</td><td><p>RMSE (Root Mean Square Error) of the geometric residuals (meters)\\nmeasured on the GCPs (Ground Control Points) used in geometric\\nprecision correction in the across-track direction.</p></td></tr><tr><td>GEOMETRIC_RMSE_MODEL_Y</td><td>DOUBLE</td><td><p>RMSE (Root Mean Square Error) of the geometric residuals (meters)\\nmeasured on the GCPs (Ground Control Points) used in geometric\\nprecision correction in the along-track direction.</p></td></tr><tr><td>GEOMETRIC_RMSE_VERIFY</td><td>DOUBLE</td><td><p>RMSE of the geometric residuals (meters) measured on the\\nterrain-corrected product independently using GLS2000.</p></td></tr><tr><td>GROUND_CONTROL_POINTS_MODEL</td><td>DOUBLE</td><td><p>Number of GCPs used in the precision correction process.\\nThis parameter is only present if the PROCESSING_LEVEL is L1TP.</p></td></tr><tr><td>GROUND_CONTROL_POINTS_VERIFY</td><td>DOUBLE</td><td><p>Number of GCPs (Ground Control Points) used in the verification\\nof the terrain corrected product.</p></td></tr><tr><td>GROUND_CONTROL_POINTS_VERSION</td><td>DOUBLE</td><td><p>GCP dataset version used in the precision correction process. This\\nparameter is only present if the PROCESSING_LEVEL is L1TP.</p></td></tr><tr><td>IMAGE_QUALITY_OLI</td><td>INT</td><td><p>Image quality of the OLI bands.\\n1 = worst, 9 = best, 0 = quality not calculated.\\nFor Landsat 8, this parameter is adjusted downward for\\nscenes collected using the lower 12 bits from the OLI sensor\\n(TRUNCATION_OLI = &quot;LOWER&quot;).</p></td></tr><tr><td>IMAGE_QUALITY_TIRS</td><td>INT</td><td><p>Image quality of the TIRS bands.\\n1 = worst, 9 = best, 0 = quality not calculated.\\nIt is also adjusted downward for scenes processed with\\n&quot;SWITCHED&quot; for the TIRS_SSM_POSITION_STATUS value.</p></td></tr><tr><td>L1_DATE_PRODUCT_GENERATED</td><td>STRING</td><td><p>Product generation date for the corresponding L1 product.</p></td></tr><tr><td>L1_LANDSAT_PRODUCT_ID</td><td>STRING</td><td><p>Landsat Product Identifier for the corresponding L1 product.</p></td></tr><tr><td>L1_PROCESSING_LEVEL</td><td>STRING</td><td><p>Processing Level for the corresponding L1 product.</p></td></tr><tr><td>L1_PROCESSING_SOFTWARE_VERSION</td><td>STRING</td><td><p>Processing software version for the corresponding L1 product.</p></td></tr><tr><td>LANDSAT_PRODUCT_ID</td><td>STRING</td><td><p>Landsat Product Identifier</p></td></tr><tr><td>LANDSAT_SCENE_ID</td><td>STRING</td><td><p>Short Landsat Scene Identifier</p></td></tr><tr><td>PROCESSING_LEVEL</td><td>STRING</td><td><p>&quot;L2SP&quot; when both SR and LST bands are present, or &quot;L2SR&quot; when only\\nSR bands are present.</p></td></tr><tr><td>PROCESSING_SOFTWARE_VERSION</td><td>STRING</td><td><p>The processing software version that created the product.</p></td></tr><tr><td>ROLL_ANGLE</td><td>DOUBLE</td><td><p>The amount of spacecraft roll angle at the scene center. The roll value is\\ngiven in the Yaw Steering Frame (YSF) reference, whose x-axis is\\naligned with the instantaneous ground track velocity vector. Rolls about\\nthis x-axis go by the right-hand rule: a positive roll results in the\\ninstruments pointing to the left of the ground track, while a negative\\nroll results in the instrument pointing to the right.</p></td></tr><tr><td>SCENE_CENTER_TIME</td><td>STRING</td><td><p>Time of the observations as in ISO 8601 string.</p></td></tr><tr><td>SENSOR_ID</td><td>STRING</td><td><p>Name of the sensor.</p></td></tr><tr><td>SPACECRAFT_ID</td><td>STRING</td><td><p>Name of the spacecraft.</p></td></tr><tr><td>SUN_AZIMUTH</td><td>DOUBLE</td><td><p>Sun azimuth angle in degrees for the image center location at the\\nimage center acquisition time. A positive value indicates angles to the\\neast or clockwise from the north. A negative value indicates angles to\\nthe west or counterclockwise from the north.</p></td></tr><tr><td>SUN_ELEVATION</td><td>DOUBLE</td><td><p>Sun elevation angle in degrees for the image center location at the\\nimage center acquisition time. A positive value indicates a daytime\\nscene. A negative value indicates a nighttime scene.\\nNote: For reflectance calculation, the sun zenith angle is needed,\\nwhich is 90 - sun elevation angle.</p></td></tr><tr><td>TARGET_WRS_PATH</td><td>INT</td><td><p>Nearest WRS-2 path to the Line-ofSight (LOS) scene center of the image.</p></td></tr><tr><td>TARGET_WRS_ROW</td><td>INT</td><td><p>Nearest WRS-2 row to the LOS scene center of the image. Rows 880-889\\nare reserved for the north pole and 990-999 are reserved for the south\\npole, where WRS-2 is not defined.</p></td></tr><tr><td>TEMPERATURE_MAXIMUM_BAND_ST_B10</td><td>DOUBLE</td><td><p>Maximum achievable temperature value for Band 10.</p></td></tr><tr><td>TEMPERATURE_MINIMUM_BAND_ST_B10</td><td>DOUBLE</td><td><p>Minimum achievable temperature value for Band 10.</p></td></tr><tr><td>TIRS_SSM_MODEL</td><td>STRING</td><td><p>Indicates how the Landsat 8 TIRS Scene Select Mirror (SSM) position\\nwas determined.</p><ul><li><p>&quot;FINAL&quot; indicates final estimated encoder values generated after\\nthe switch event.</p></li><li><p>&quot;ACTUAL&quot; indicates actual encoder values.</p></li></ul></td></tr><tr><td>TIRS_SSM_POSITION_STATUS</td><td>STRING</td><td><ul><li><p>&quot;NOMINAL&quot; indicates the SSM was functioning normally for this scene.</p></li><li><p>&quot;SWITCHED&quot; indicates the SSM switched operating modes in the scene and\\nmay have TIRS image quality issues, which directly impact the\\nIMAGE_QUALITY_TIRS value.</p></li><li><p>&quot;ESTIMATED&quot; indicates the SSM position was estimated, which may not be\\nas accurate as the &quot;NOMINAL&quot; status.</p></li></ul></td></tr><tr><td>TRUNCATION_OLI</td><td>STRING</td><td><ul><li><p>&quot;LOWER&quot; indicates that the lower 12 bits were used.</p></li><li><p>&quot;UPPER&quot; indicates the upper 12 bits were used.</p></li></ul><p>The normal truncation mode is &quot;UPPER&quot;.</p></td></tr><tr><td>WRS_PATH</td><td>INT</td><td><p>WRS path number of scene.</p></td></tr><tr><td>WRS_ROW</td><td>INT</td><td><p>WRS row number of scene.</p></td></tr></table><p><b>Terms of Use</b><br><p>Landsat datasets are federally created data\\nand therefore reside in the public domain and may be used, transferred, or reproduced without copyright restriction.</p><p>Acknowledgement or credit of the USGS as data source should be provided\\nby including a line of text citation such as the example shown below.</p><p>(Product, Image, Photograph, or Dataset Name) courtesy of\\nthe U.S. Geological Survey</p><p>Example: Landsat-7 image courtesy of the U.S. Geological Survey</p><p>See the\\n<a href=\"https://www.usgs.gov/information-policies-and-instructions/usgs-visual-identity-system\">USGS Visual Identity System Guidance</a>\\nfor further details on proper citation and acknowledgement of USGS products.</p><style>\\n  table.eecat {\\n  border: 1px solid black;\\n  border-collapse: collapse;\\n  font-size: 13px;\\n  }\\n  table.eecat td, tr, th {\\n  text-align: left; vertical-align: top;\\n  border: 1px solid gray; padding: 3px;\\n  }\\n  td.nobreak { white-space: nowrap; }\\n</style>', 'source_tags': ['landsat', 'usgs'], 'visualization_1_name': 'Near Infrared (543)', 'visualization_0_max': '30000.0', 'title': 'USGS Landsat 8 Level 2, Collection 2, Tier 1', 'product_tags': ['global', 'sr', 'reflectance', 'l8sr', 'lst', 'cloud', 'lasrc', 'fmask', 'cfmask', 'lc08'], 'provider': 'USGS', 'visualization_1_min': '0.0', 'visualization_0_min': '0.0', 'visualization_0_name': 'True Color (432)', 'date_range': [1365638400000, 1654560000000], 'visualization_2_bands': 'SR_B7,SR_B5,SR_B3', 'visualization_2_name': 'Shortwave Infrared (753)', 'period': 0, 'visualization_2_min': '0.0', 'provider_url': 'https://www.usgs.gov/core-science-systems/nli/landsat/landsat-collection-2-level-2-science-products', 'sample': 'https://mw1.google.com/ges/dd/images/LANDSAT_SR_sample.png', 'tags': ['cfmask', 'cloud', 'fmask', 'global', 'l8sr', 'landsat', 'lasrc', 'lst', 'reflectance', 'sr', 'usgs'], 'visualization_2_max': '30000.0', 'visualization_0_bands': 'SR_B4,SR_B3,SR_B2'}, 'features': []}\n",
            "{'type': 'Date', 'value': 1557964800000}\n",
            "{'type': 'Date', 'value': 1550275200000}\n"
          ]
        }
      ],
      "source": [
        "# testing\n",
        "# check to see if fire_ign imported correctly\n",
        "ptx = pts.first()\n",
        "print(ptx.getInfo())\n",
        "# can we add columns to feature colletion\n",
        "# add featrue tes\n",
        "\n",
        "# def add_feat(col):\n",
        "#     return(col.set('num', 1).set('char', 4))\n",
        "# pts2 = pts.map(add_feat)\n",
        "# pts2.first().getInfo()\n",
        "\n",
        "# f = ptx.get('fire')\n",
        "# ptx.getInfo()\n",
        "\n",
        "# pt = ee.Feature(ptx).buffer(15)\n",
        "# pt.getInfo()\n",
        "\n",
        "# start = pt.get('prior3m_ign')\n",
        "# end = pt.get('ignitiondate')\n",
        "# tndvi = l8ndvi.filterDate(start, end)\n",
        "# tndvi.first().getInfo()\n",
        "\n",
        "# test to see if buffer works\n",
        "# bufpts = pts.map(buf)\n",
        "\n",
        "\n",
        "# z = bufpts.map(zonal_ndvi)\n",
        "# z.first().getInfo()\n",
        "\n",
        "## testing data set\n",
        "#tpts = pts.limit(2)\n",
        "#buftpts = tpts.map(buf)\n",
        "#print('buffered')\n",
        "#z = buftpts.map(zonal_ndvi)\n",
        "#print('mapped')\n",
        "#z\n",
        "\n",
        "\n",
        "\n",
        "\n",
        "col = ee.Feature(ptx).buffer(15)\n",
        "print(col.getInfo())\n",
        "ign = ee.Date(col.get('ignitiondate')) # ee.Date(col.get(....))\n",
        "mon3 = ee.Date(col.get('prior3m_ign'))\n",
        "\n",
        "img = l8ndvi.filterBounds(col.geometry()).filterDate(mon3, ign)\n",
        "print(img.getInfo())\n",
        "\n",
        "def zone(imgcol):\n",
        "    reg = imgcol.reduceRegion(\n",
        "            reducer = ee.Reducer.mean(),\n",
        "            geometry = col.geometry(),\n",
        "            scale = 30)\n",
        "    return ee.Feature(col.geometry(), reg)\n",
        "\n",
        "print(l8ndvi.filterBounds(col.geometry()).first().bandNames().getInfo())\n",
        "## print(img.first().bandNames().getInfo())\n",
        "zstat = img.map(zone)\n",
        "print(zstat.getInfo())\n",
        "print(ign.getInfo())\n",
        "print(mon3.getInfo())"
      ]
    },
    {
      "cell_type": "code",
      "execution_count": null,
      "id": "e151d445-6260-47ee-a5c0-18265243d346",
      "metadata": {
        "tags": [],
        "id": "e151d445-6260-47ee-a5c0-18265243d346",
        "outputId": "bee12418-cd6e-4952-afb6-acecc7596a1b"
      },
      "outputs": [
        {
          "name": "stdout",
          "output_type": "stream",
          "text": [
            "t\n"
          ]
        }
      ],
      "source": [
        "print('t')"
      ]
    }
  ],
  "metadata": {
    "kernelspec": {
      "display_name": "Python 3 (ipykernel)",
      "language": "python",
      "name": "python3"
    },
    "language_info": {
      "codemirror_mode": {
        "name": "ipython",
        "version": 3
      },
      "file_extension": ".py",
      "mimetype": "text/x-python",
      "name": "python",
      "nbconvert_exporter": "python",
      "pygments_lexer": "ipython3",
      "version": "3.10.9"
    },
    "colab": {
      "provenance": [],
      "include_colab_link": true
    }
  },
  "nbformat": 4,
  "nbformat_minor": 5
}