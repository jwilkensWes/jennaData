{
  "cells": [
    {
      "cell_type": "markdown",
      "id": "d796669b-298a-40e8-9e89-357b5d4ab21f",
      "metadata": {
        "id": "d796669b-298a-40e8-9e89-357b5d4ab21f"
      },
      "source": [
        "GEE Index Collection"
      ]
    },
    {
      "cell_type": "code",
      "execution_count": 1,
      "id": "d1195d05-f811-4eaa-94e3-2fd7eb16d894",
      "metadata": {
        "tags": [],
        "id": "d1195d05-f811-4eaa-94e3-2fd7eb16d894",
        "outputId": "ec8461f9-ae0d-4d5b-86a3-3f6abb98d060",
        "colab": {
          "base_uri": "https://localhost:8080/"
        }
      },
      "outputs": [
        {
          "output_type": "stream",
          "name": "stdout",
          "text": [
            "To authorize access needed by Earth Engine, open the following URL in a web browser and follow the instructions. If the web browser does not start automatically, please manually browse the URL below.\n",
            "\n",
            "    https://code.earthengine.google.com/client-auth?scopes=https%3A//www.googleapis.com/auth/earthengine%20https%3A//www.googleapis.com/auth/devstorage.full_control&request_id=pYA-u02lmq5Qg-XKBkg4fjWnNx_hm9Ohk90XE-u-PJ4&tc=jZjSlqJ_7TaPr0lPCaVC6r1RuSabEKdbf--JLqM6QBQ&cc=Dx3wcdBoWq2BOXwft2mqDfVQyKuz1UViDwvQ8RpZNrI\n",
            "\n",
            "The authorization workflow will generate a code, which you should paste in the box below.\n",
            "Enter verification code: 4/1AfJohXkHoRfqgRkpAAizgKUJafeXrFFELWy6mxFQY6i63y86KKFQsiK7E3E\n",
            "\n",
            "Successfully saved authorization token.\n"
          ]
        }
      ],
      "source": [
        "## GEE setup\n",
        "import ee\n",
        "ee.Authenticate()\n",
        "ee.Initialize()"
      ]
    },
    {
      "cell_type": "code",
      "execution_count": 2,
      "id": "96bb3116-ad06-4b96-aafe-59027faa5a29",
      "metadata": {
        "id": "96bb3116-ad06-4b96-aafe-59027faa5a29"
      },
      "outputs": [],
      "source": [
        "# collections\n",
        "l8sr = ee.ImageCollection('LANDSAT/LC08/C02/T1_L2') ## land 8\n",
        "pts = ee.FeatureCollection('projects/poulos-gee/assets/fire_ign')\n",
        "l8bands = ['SR_B5', 'SR_B4', 'SR_B6', 'SR_B3']"
      ]
    },
    {
      "cell_type": "code",
      "execution_count": 3,
      "id": "3965fce3-120d-438d-b8f2-6ae5849a9371",
      "metadata": {
        "tags": [],
        "id": "3965fce3-120d-438d-b8f2-6ae5849a9371"
      },
      "outputs": [],
      "source": [
        "# index calculations\n",
        "# ndvi 8\n",
        "def make_ndvi_lan8(image):\n",
        "    nir = image.select('SR_B5')\n",
        "    red = image.select('SR_B4')\n",
        "    ndvi = nir.subtract(red).divide(nir.add(red)).rename('NDVI')\n",
        "    return ndvi\n",
        "# ndmi 8\n",
        "def make_ndmi_lan8(image):\n",
        "    nir = image.select('SR_B5')\n",
        "    swir = image.select('SR_B6')\n",
        "    ndmi = nir.subtract(swir).divide(nir.add(swir)).rename('NDMI')\n",
        "    return ndmi\n",
        "# ndwi 8\n",
        "def make_ndwi_lan8(image):\n",
        "    green = image.select('SR_B3')\n",
        "    nir = image.select('SR_B5')\n",
        "    ndwi = green.subtract(nir).divide(green.add(nir)).rename('NDWI')\n",
        "    return ndwi\n",
        "# cloud mask function\n",
        "def cloud_mask_lan8(img):\n",
        "    cloud_mask = img.select('QA_PIXEL').bitwiseAnd(ee.Number.parse('0000001111', 2)).eq(0)\n",
        "    return(img.select(l8bands).updateMask(cloud_mask))"
      ]
    },
    {
      "cell_type": "code",
      "execution_count": 4,
      "id": "d7d4be84-96b3-4449-818b-1bfd8e35d8e9",
      "metadata": {
        "id": "d7d4be84-96b3-4449-818b-1bfd8e35d8e9"
      },
      "outputs": [],
      "source": [
        "## cloud mask and make indexs\n",
        "\n",
        "# clouds\n",
        "l8cloud = l8sr.map(cloud_mask_lan8)\n",
        "# ndvi\n",
        "l8ndvi = l8cloud.map(make_ndvi_lan8)\n",
        "# ndmi\n",
        "l8ndmi = l8cloud.map(make_ndmi_lan8)\n",
        "# ndwi\n",
        "l8ndwi = l8cloud.map(make_ndwi_lan8)\n"
      ]
    },
    {
      "cell_type": "code",
      "execution_count": 5,
      "id": "a73eb1f8-ad65-477f-bee2-f961bfbef6b1",
      "metadata": {
        "tags": [],
        "id": "a73eb1f8-ad65-477f-bee2-f961bfbef6b1"
      },
      "outputs": [],
      "source": [
        "## new functions\n",
        "\n",
        "# buffer\n",
        "def buf(col):\n",
        "    pt = ee.Feature(col).buffer(15)\n",
        "    return(pt)\n",
        "\n",
        "# zonal stats\n",
        "def zonal_ndvi(col):\n",
        "    ign = ee.Date(col.get('ignitiondate')) # ee.Date(col.get(....))\n",
        "    mon3 = ee.Date(col.get('prior3m_ign'))\n",
        "    img = l8ndvi.filterDate(mon3, ign)\n",
        "\n",
        "    def zone(imgcol):\n",
        "        reg = imgcol.reduceRegion(\n",
        "            reducer = ee.Reducer.mean(),\n",
        "            geometry = col.geometry(),\n",
        "            scale = 30)\n",
        "    return ee.Feature(col.geometry(), reg)\n",
        "\n",
        "    zstat = img.map(zone)\n",
        "    return zstat\n",
        "\n"
      ]
    },
    {
      "cell_type": "code",
      "execution_count": null,
      "id": "b2d32db6-6e10-47ba-ad88-bcfb450ec9d4",
      "metadata": {
        "tags": [],
        "id": "b2d32db6-6e10-47ba-ad88-bcfb450ec9d4",
        "outputId": "cf9b22c3-aba1-475d-a1c6-13a008184730",
        "colab": {
          "base_uri": "https://localhost:8080/",
          "height": 497
        }
      },
      "outputs": [
        {
          "output_type": "stream",
          "name": "stdout",
          "text": [
            "{'type': 'Feature', 'geometry': {'type': 'Point', 'coordinates': [-111.37415099642493, 35.31043066225664]}, 'id': '00000000000000000029', 'properties': {'category': 'maroon 600', 'fire': 'maroon', 'fireID': 'AZ3530911140720190516', 'ignitiondate': '2019-05-16', 'objectid': 600, 'prior3m_ign': '2019-02-16'}}\n"
          ]
        },
        {
          "output_type": "error",
          "ename": "EEException",
          "evalue": "ignored",
          "traceback": [
            "\u001b[0;31m---------------------------------------------------------------------------\u001b[0m",
            "\u001b[0;31mHttpError\u001b[0m                                 Traceback (most recent call last)",
            "\u001b[0;32m/usr/local/lib/python3.10/dist-packages/ee/data.py\u001b[0m in \u001b[0;36m_execute_cloud_call\u001b[0;34m(call, num_retries)\u001b[0m\n\u001b[1;32m    370\u001b[0m   \u001b[0;32mtry\u001b[0m\u001b[0;34m:\u001b[0m\u001b[0;34m\u001b[0m\u001b[0;34m\u001b[0m\u001b[0m\n\u001b[0;32m--> 371\u001b[0;31m     \u001b[0;32mreturn\u001b[0m \u001b[0mcall\u001b[0m\u001b[0;34m.\u001b[0m\u001b[0mexecute\u001b[0m\u001b[0;34m(\u001b[0m\u001b[0mnum_retries\u001b[0m\u001b[0;34m=\u001b[0m\u001b[0mnum_retries\u001b[0m\u001b[0;34m)\u001b[0m\u001b[0;34m\u001b[0m\u001b[0;34m\u001b[0m\u001b[0m\n\u001b[0m\u001b[1;32m    372\u001b[0m   \u001b[0;32mexcept\u001b[0m \u001b[0mgoogleapiclient\u001b[0m\u001b[0;34m.\u001b[0m\u001b[0merrors\u001b[0m\u001b[0;34m.\u001b[0m\u001b[0mHttpError\u001b[0m \u001b[0;32mas\u001b[0m \u001b[0me\u001b[0m\u001b[0;34m:\u001b[0m\u001b[0;34m\u001b[0m\u001b[0;34m\u001b[0m\u001b[0m\n",
            "\u001b[0;32m/usr/local/lib/python3.10/dist-packages/googleapiclient/_helpers.py\u001b[0m in \u001b[0;36mpositional_wrapper\u001b[0;34m(*args, **kwargs)\u001b[0m\n\u001b[1;32m    129\u001b[0m                     \u001b[0mlogger\u001b[0m\u001b[0;34m.\u001b[0m\u001b[0mwarning\u001b[0m\u001b[0;34m(\u001b[0m\u001b[0mmessage\u001b[0m\u001b[0;34m)\u001b[0m\u001b[0;34m\u001b[0m\u001b[0;34m\u001b[0m\u001b[0m\n\u001b[0;32m--> 130\u001b[0;31m             \u001b[0;32mreturn\u001b[0m \u001b[0mwrapped\u001b[0m\u001b[0;34m(\u001b[0m\u001b[0;34m*\u001b[0m\u001b[0margs\u001b[0m\u001b[0;34m,\u001b[0m \u001b[0;34m**\u001b[0m\u001b[0mkwargs\u001b[0m\u001b[0;34m)\u001b[0m\u001b[0;34m\u001b[0m\u001b[0;34m\u001b[0m\u001b[0m\n\u001b[0m\u001b[1;32m    131\u001b[0m \u001b[0;34m\u001b[0m\u001b[0m\n",
            "\u001b[0;32m/usr/local/lib/python3.10/dist-packages/googleapiclient/http.py\u001b[0m in \u001b[0;36mexecute\u001b[0;34m(self, http, num_retries)\u001b[0m\n\u001b[1;32m    937\u001b[0m         \u001b[0;32mif\u001b[0m \u001b[0mresp\u001b[0m\u001b[0;34m.\u001b[0m\u001b[0mstatus\u001b[0m \u001b[0;34m>=\u001b[0m \u001b[0;36m300\u001b[0m\u001b[0;34m:\u001b[0m\u001b[0;34m\u001b[0m\u001b[0;34m\u001b[0m\u001b[0m\n\u001b[0;32m--> 938\u001b[0;31m             \u001b[0;32mraise\u001b[0m \u001b[0mHttpError\u001b[0m\u001b[0;34m(\u001b[0m\u001b[0mresp\u001b[0m\u001b[0;34m,\u001b[0m \u001b[0mcontent\u001b[0m\u001b[0;34m,\u001b[0m \u001b[0muri\u001b[0m\u001b[0;34m=\u001b[0m\u001b[0mself\u001b[0m\u001b[0;34m.\u001b[0m\u001b[0muri\u001b[0m\u001b[0;34m)\u001b[0m\u001b[0;34m\u001b[0m\u001b[0;34m\u001b[0m\u001b[0m\n\u001b[0m\u001b[1;32m    939\u001b[0m         \u001b[0;32mreturn\u001b[0m \u001b[0mself\u001b[0m\u001b[0;34m.\u001b[0m\u001b[0mpostproc\u001b[0m\u001b[0;34m(\u001b[0m\u001b[0mresp\u001b[0m\u001b[0;34m,\u001b[0m \u001b[0mcontent\u001b[0m\u001b[0;34m)\u001b[0m\u001b[0;34m\u001b[0m\u001b[0;34m\u001b[0m\u001b[0m\n",
            "\u001b[0;31mHttpError\u001b[0m: <HttpError 400 when requesting https://earthengine.googleapis.com/v1/projects/earthengine-legacy/value:compute?prettyPrint=false&alt=json returned \"Collection query aborted after accumulating over 5000 elements.\". Details: \"Collection query aborted after accumulating over 5000 elements.\">",
            "\nDuring handling of the above exception, another exception occurred:\n",
            "\u001b[0;31mEEException\u001b[0m                               Traceback (most recent call last)",
            "\u001b[0;32m<ipython-input-10-24b729c49d23>\u001b[0m in \u001b[0;36m<cell line: 7>\u001b[0;34m()\u001b[0m\n\u001b[1;32m      5\u001b[0m \u001b[0;34m\u001b[0m\u001b[0m\n\u001b[1;32m      6\u001b[0m \u001b[0mcol\u001b[0m \u001b[0;34m=\u001b[0m \u001b[0mpts\u001b[0m\u001b[0;34m.\u001b[0m\u001b[0mmap\u001b[0m\u001b[0;34m(\u001b[0m\u001b[0mbuf\u001b[0m\u001b[0;34m)\u001b[0m\u001b[0;34m\u001b[0m\u001b[0;34m\u001b[0m\u001b[0m\n\u001b[0;32m----> 7\u001b[0;31m \u001b[0mprint\u001b[0m\u001b[0;34m(\u001b[0m\u001b[0mcol\u001b[0m\u001b[0;34m.\u001b[0m\u001b[0mgetInfo\u001b[0m\u001b[0;34m(\u001b[0m\u001b[0;34m)\u001b[0m\u001b[0;34m)\u001b[0m\u001b[0;34m\u001b[0m\u001b[0;34m\u001b[0m\u001b[0m\n\u001b[0m\u001b[1;32m      8\u001b[0m \u001b[0mign\u001b[0m \u001b[0;34m=\u001b[0m \u001b[0mee\u001b[0m\u001b[0;34m.\u001b[0m\u001b[0mDate\u001b[0m\u001b[0;34m(\u001b[0m\u001b[0mcol\u001b[0m\u001b[0;34m.\u001b[0m\u001b[0mget\u001b[0m\u001b[0;34m(\u001b[0m\u001b[0;34m'ignitiondate'\u001b[0m\u001b[0;34m)\u001b[0m\u001b[0;34m)\u001b[0m \u001b[0;31m# ee.Date(col.get(....))\u001b[0m\u001b[0;34m\u001b[0m\u001b[0;34m\u001b[0m\u001b[0m\n\u001b[1;32m      9\u001b[0m \u001b[0mmon3\u001b[0m \u001b[0;34m=\u001b[0m \u001b[0mee\u001b[0m\u001b[0;34m.\u001b[0m\u001b[0mDate\u001b[0m\u001b[0;34m(\u001b[0m\u001b[0mcol\u001b[0m\u001b[0;34m.\u001b[0m\u001b[0mget\u001b[0m\u001b[0;34m(\u001b[0m\u001b[0;34m'prior3m_ign'\u001b[0m\u001b[0;34m)\u001b[0m\u001b[0;34m)\u001b[0m\u001b[0;34m\u001b[0m\u001b[0;34m\u001b[0m\u001b[0m\n",
            "\u001b[0;32m/usr/local/lib/python3.10/dist-packages/ee/collection.py\u001b[0m in \u001b[0;36mgetInfo\u001b[0;34m(self)\u001b[0m\n\u001b[1;32m    155\u001b[0m            \u001b[0mproperties\u001b[0m\u001b[0;34m.\u001b[0m\u001b[0;34m\u001b[0m\u001b[0;34m\u001b[0m\u001b[0m\n\u001b[1;32m    156\u001b[0m     \"\"\"\n\u001b[0;32m--> 157\u001b[0;31m     \u001b[0;32mreturn\u001b[0m \u001b[0msuper\u001b[0m\u001b[0;34m(\u001b[0m\u001b[0;34m)\u001b[0m\u001b[0;34m.\u001b[0m\u001b[0mgetInfo\u001b[0m\u001b[0;34m(\u001b[0m\u001b[0;34m)\u001b[0m\u001b[0;34m\u001b[0m\u001b[0;34m\u001b[0m\u001b[0m\n\u001b[0m\u001b[1;32m    158\u001b[0m \u001b[0;34m\u001b[0m\u001b[0m\n\u001b[1;32m    159\u001b[0m   def limit(\n",
            "\u001b[0;32m/usr/local/lib/python3.10/dist-packages/ee/computedobject.py\u001b[0m in \u001b[0;36mgetInfo\u001b[0;34m(self)\u001b[0m\n\u001b[1;32m    103\u001b[0m       \u001b[0mThe\u001b[0m \u001b[0mobject\u001b[0m \u001b[0mcan\u001b[0m \u001b[0mevaluate\u001b[0m \u001b[0mto\u001b[0m \u001b[0manything\u001b[0m\u001b[0;34m.\u001b[0m\u001b[0;34m\u001b[0m\u001b[0;34m\u001b[0m\u001b[0m\n\u001b[1;32m    104\u001b[0m     \"\"\"\n\u001b[0;32m--> 105\u001b[0;31m     \u001b[0;32mreturn\u001b[0m \u001b[0mdata\u001b[0m\u001b[0;34m.\u001b[0m\u001b[0mcomputeValue\u001b[0m\u001b[0;34m(\u001b[0m\u001b[0mself\u001b[0m\u001b[0;34m)\u001b[0m\u001b[0;34m\u001b[0m\u001b[0;34m\u001b[0m\u001b[0m\n\u001b[0m\u001b[1;32m    106\u001b[0m \u001b[0;34m\u001b[0m\u001b[0m\n\u001b[1;32m    107\u001b[0m   \u001b[0;32mdef\u001b[0m \u001b[0mencode\u001b[0m\u001b[0;34m(\u001b[0m\u001b[0mself\u001b[0m\u001b[0;34m,\u001b[0m \u001b[0mencoder\u001b[0m\u001b[0;34m:\u001b[0m \u001b[0mOptional\u001b[0m\u001b[0;34m[\u001b[0m\u001b[0mCallable\u001b[0m\u001b[0;34m[\u001b[0m\u001b[0;34m...\u001b[0m\u001b[0;34m,\u001b[0m \u001b[0mAny\u001b[0m\u001b[0;34m]\u001b[0m\u001b[0;34m]\u001b[0m\u001b[0;34m)\u001b[0m \u001b[0;34m->\u001b[0m \u001b[0mDict\u001b[0m\u001b[0;34m[\u001b[0m\u001b[0mstr\u001b[0m\u001b[0;34m,\u001b[0m \u001b[0mAny\u001b[0m\u001b[0;34m]\u001b[0m\u001b[0;34m:\u001b[0m\u001b[0;34m\u001b[0m\u001b[0;34m\u001b[0m\u001b[0m\n",
            "\u001b[0;32m/usr/local/lib/python3.10/dist-packages/ee/data.py\u001b[0m in \u001b[0;36mcomputeValue\u001b[0;34m(obj)\u001b[0m\n\u001b[1;32m   1068\u001b[0m   \u001b[0m_maybe_populate_workload_tag\u001b[0m\u001b[0;34m(\u001b[0m\u001b[0mbody\u001b[0m\u001b[0;34m)\u001b[0m\u001b[0;34m\u001b[0m\u001b[0;34m\u001b[0m\u001b[0m\n\u001b[1;32m   1069\u001b[0m \u001b[0;34m\u001b[0m\u001b[0m\n\u001b[0;32m-> 1070\u001b[0;31m   return _execute_cloud_call(\n\u001b[0m\u001b[1;32m   1071\u001b[0m       \u001b[0m_get_cloud_projects\u001b[0m\u001b[0;34m(\u001b[0m\u001b[0;34m)\u001b[0m\u001b[0;34m\u001b[0m\u001b[0;34m\u001b[0m\u001b[0m\n\u001b[1;32m   1072\u001b[0m       \u001b[0;34m.\u001b[0m\u001b[0mvalue\u001b[0m\u001b[0;34m(\u001b[0m\u001b[0;34m)\u001b[0m\u001b[0;34m\u001b[0m\u001b[0;34m\u001b[0m\u001b[0m\n",
            "\u001b[0;32m/usr/local/lib/python3.10/dist-packages/ee/data.py\u001b[0m in \u001b[0;36m_execute_cloud_call\u001b[0;34m(call, num_retries)\u001b[0m\n\u001b[1;32m    371\u001b[0m     \u001b[0;32mreturn\u001b[0m \u001b[0mcall\u001b[0m\u001b[0;34m.\u001b[0m\u001b[0mexecute\u001b[0m\u001b[0;34m(\u001b[0m\u001b[0mnum_retries\u001b[0m\u001b[0;34m=\u001b[0m\u001b[0mnum_retries\u001b[0m\u001b[0;34m)\u001b[0m\u001b[0;34m\u001b[0m\u001b[0;34m\u001b[0m\u001b[0m\n\u001b[1;32m    372\u001b[0m   \u001b[0;32mexcept\u001b[0m \u001b[0mgoogleapiclient\u001b[0m\u001b[0;34m.\u001b[0m\u001b[0merrors\u001b[0m\u001b[0;34m.\u001b[0m\u001b[0mHttpError\u001b[0m \u001b[0;32mas\u001b[0m \u001b[0me\u001b[0m\u001b[0;34m:\u001b[0m\u001b[0;34m\u001b[0m\u001b[0;34m\u001b[0m\u001b[0m\n\u001b[0;32m--> 373\u001b[0;31m     \u001b[0;32mraise\u001b[0m \u001b[0m_translate_cloud_exception\u001b[0m\u001b[0;34m(\u001b[0m\u001b[0me\u001b[0m\u001b[0;34m)\u001b[0m  \u001b[0;31m# pylint: disable=raise-missing-from\u001b[0m\u001b[0;34m\u001b[0m\u001b[0;34m\u001b[0m\u001b[0m\n\u001b[0m\u001b[1;32m    374\u001b[0m \u001b[0;34m\u001b[0m\u001b[0m\n\u001b[1;32m    375\u001b[0m \u001b[0;34m\u001b[0m\u001b[0m\n",
            "\u001b[0;31mEEException\u001b[0m: Collection query aborted after accumulating over 5000 elements."
          ]
        }
      ],
      "source": [
        "# testing\n",
        "# check to see if fire_ign imported correctly\n",
        "ptx = pts.first()\n",
        "print(ptx.getInfo())\n",
        "\n",
        "# create a test feature\n",
        "tpt = ee.Feature(ee.Geometry.Point([-112.2599178, 36.48981674])).set()\n",
        "\n",
        "col = pts.map(buf)\n",
        "ign = ee.Date(col.get('ignitiondate')) # ee.Date(col.get(....))\n",
        "mon3 = ee.Date(col.get('prior3m_ign'))\n",
        "\n",
        "img = l8ndvi.filterBounds(col.geometry()).filterDate(mon3, ign)\n",
        "print(img.getInfo().first)\n",
        "\n",
        "def zone(imgcol):\n",
        "    reg = imgcol.reduceRegion(\n",
        "            reducer = ee.Reducer.mean(),\n",
        "            geometry = col.geometry(),\n",
        "            scale = 30)\n",
        "    return ee.Feature(col.geometry(), reg)\n",
        "\n",
        "zstat = img.map(zone)\n",
        "zstat.\n",
        "\n",
        "\n",
        "# can we add columns to feature colletion\n",
        "# add featrue tes\n",
        "\n",
        "# def add_feat(col):\n",
        "#     return(col.set('num', 1).set('char', 4))\n",
        "# pts2 = pts.map(add_feat)\n",
        "# pts2.first().getInfo()\n",
        "\n",
        "# f = ptx.get('fire')\n",
        "# ptx.getInfo()\n",
        "\n",
        "# pt = ee.Feature(ptx).buffer(15)\n",
        "# pt.getInfo()\n",
        "\n",
        "# start = pt.get('prior3m_ign')\n",
        "# end = pt.get('ignitiondate')\n",
        "# tndvi = l8ndvi.filterDate(start, end)\n",
        "# tndvi.first().getInfo()\n",
        "\n",
        "# test to see if buffer works\n",
        "# bufpts = pts.map(buf)\n",
        "\n",
        "\n",
        "# z = bufpts.map(zonal_ndvi)\n",
        "# z.first().getInfo()\n",
        "\n",
        "## testing data set\n",
        "#tpts = pts.limit(2)\n",
        "#buftpts = tpts.map(buf)\n",
        "#print('buffered')\n",
        "#z = buftpts.map(zonal_ndvi)\n",
        "#print('mapped')\n",
        "#z\n",
        "\n",
        "\n",
        "\n",
        "\n"
      ]
    },
    {
      "cell_type": "code",
      "execution_count": null,
      "id": "e151d445-6260-47ee-a5c0-18265243d346",
      "metadata": {
        "tags": [],
        "id": "e151d445-6260-47ee-a5c0-18265243d346",
        "outputId": "bee12418-cd6e-4952-afb6-acecc7596a1b"
      },
      "outputs": [
        {
          "name": "stdout",
          "output_type": "stream",
          "text": [
            "t\n"
          ]
        }
      ],
      "source": [
        "print('t')"
      ]
    }
  ],
  "metadata": {
    "kernelspec": {
      "display_name": "Python 3 (ipykernel)",
      "language": "python",
      "name": "python3"
    },
    "language_info": {
      "codemirror_mode": {
        "name": "ipython",
        "version": 3
      },
      "file_extension": ".py",
      "mimetype": "text/x-python",
      "name": "python",
      "nbconvert_exporter": "python",
      "pygments_lexer": "ipython3",
      "version": "3.10.9"
    },
    "colab": {
      "provenance": []
    }
  },
  "nbformat": 4,
  "nbformat_minor": 5
}