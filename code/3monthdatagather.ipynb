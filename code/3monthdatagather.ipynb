{
  "cells": [
    {
      "cell_type": "markdown",
      "id": "d796669b-298a-40e8-9e89-357b5d4ab21f",
      "metadata": {
        "id": "d796669b-298a-40e8-9e89-357b5d4ab21f"
      },
      "source": [
        "GEE Index Collection"
      ]
    },
    {
      "cell_type": "code",
      "execution_count": 1,
      "id": "d1195d05-f811-4eaa-94e3-2fd7eb16d894",
      "metadata": {
        "tags": [],
        "id": "d1195d05-f811-4eaa-94e3-2fd7eb16d894",
        "outputId": "84c6d824-9a5a-4890-b30f-5db75e5568f7",
        "colab": {
          "base_uri": "https://localhost:8080/"
        }
      },
      "outputs": [
        {
          "output_type": "stream",
          "name": "stdout",
          "text": [
            "To authorize access needed by Earth Engine, open the following URL in a web browser and follow the instructions. If the web browser does not start automatically, please manually browse the URL below.\n",
            "\n",
            "    https://code.earthengine.google.com/client-auth?scopes=https%3A//www.googleapis.com/auth/earthengine%20https%3A//www.googleapis.com/auth/devstorage.full_control&request_id=jVkN7PInMA5cmxNAYlskbSuBWjIyi53oyJ1MERwl3bU&tc=A4r_0fRM2oNI9iZPog8XzBK3Y6YwEqBbGZspQXlgBQk&cc=RcOL4HUY1BNor_2OZJEITWRDg1hVhnOqC4FE2_2eVpY\n",
            "\n",
            "The authorization workflow will generate a code, which you should paste in the box below.\n",
            "Enter verification code: 4/1AfJohXlcsVTfmmBxk-FQELoLFhs851NNf1LXvDsB3thRnL4lGzP5xoyO-BM\n",
            "\n",
            "Successfully saved authorization token.\n"
          ]
        }
      ],
      "source": [
        "## GEE setup\n",
        "import ee\n",
        "ee.Authenticate()\n",
        "ee.Initialize()"
      ]
    },
    {
      "cell_type": "code",
      "execution_count": 2,
      "id": "96bb3116-ad06-4b96-aafe-59027faa5a29",
      "metadata": {
        "id": "96bb3116-ad06-4b96-aafe-59027faa5a29"
      },
      "outputs": [],
      "source": [
        "# collections\n",
        "l8sr = ee.ImageCollection('LANDSAT/LC08/C02/T1_L2') ## land 8\n",
        "pts = ee.FeatureCollection('projects/poulos-gee/assets/fire_ign')\n",
        "l8bands = ['SR_B5', 'SR_B4', 'SR_B6', 'SR_B3']"
      ]
    },
    {
      "cell_type": "code",
      "execution_count": 3,
      "id": "3965fce3-120d-438d-b8f2-6ae5849a9371",
      "metadata": {
        "tags": [],
        "id": "3965fce3-120d-438d-b8f2-6ae5849a9371"
      },
      "outputs": [],
      "source": [
        "# index calculations\n",
        "# ndvi 8\n",
        "def make_ndvi_lan8(image):\n",
        "    nir = image.select('SR_B5')\n",
        "    red = image.select('SR_B4')\n",
        "    ndvi = nir.subtract(red).divide(nir.add(red)).rename('NDVI')\n",
        "    return ndvi\n",
        "# ndmi 8\n",
        "def make_ndmi_lan8(image):\n",
        "    nir = image.select('SR_B5')\n",
        "    swir = image.select('SR_B6')\n",
        "    ndmi = nir.subtract(swir).divide(nir.add(swir)).rename('NDMI')\n",
        "    return ndmi\n",
        "# ndwi 8\n",
        "def make_ndwi_lan8(image):\n",
        "    green = image.select('SR_B3')\n",
        "    nir = image.select('SR_B5')\n",
        "    ndwi = green.subtract(nir).divide(green.add(nir)).rename('NDWI')\n",
        "    return ndwi\n",
        "# cloud mask function\n",
        "def cloud_mask_lan8(img):\n",
        "    cloud_mask = img.select('QA_PIXEL').bitwiseAnd(ee.Number.parse('0000001111', 2)).eq(0)\n",
        "    return(img.select(l8bands).updateMask(cloud_mask))\n",
        "\n",
        "def export_index(col, name):\n",
        "    task = ee.batch.Export.table.toDrive(\n",
        "        collection = col,\n",
        "        description = name,\n",
        "        fileFormat='CSV',\n",
        "        folder = 'jennatest'\n",
        "    );\n",
        "    task.start()"
      ]
    },
    {
      "cell_type": "code",
      "execution_count": 4,
      "id": "d7d4be84-96b3-4449-818b-1bfd8e35d8e9",
      "metadata": {
        "id": "d7d4be84-96b3-4449-818b-1bfd8e35d8e9"
      },
      "outputs": [],
      "source": [
        "## cloud mask and make indexs\n",
        "\n",
        "# clouds\n",
        "l8cloud = l8sr.map(cloud_mask_lan8)\n",
        "# ndvi\n",
        "l8ndvi = l8cloud.map(make_ndvi_lan8)\n",
        "# ndmi\n",
        "l8ndmi = l8cloud.map(make_ndmi_lan8)\n",
        "# ndwi\n",
        "l8ndwi = l8cloud.map(make_ndwi_lan8)\n"
      ]
    },
    {
      "cell_type": "code",
      "execution_count": 23,
      "id": "a73eb1f8-ad65-477f-bee2-f961bfbef6b1",
      "metadata": {
        "tags": [],
        "id": "a73eb1f8-ad65-477f-bee2-f961bfbef6b1"
      },
      "outputs": [],
      "source": [
        "## new functions\n",
        "\n",
        "# buffer\n",
        "def buf(col):\n",
        "    pt = ee.Feature(col.buffer(15))\n",
        "    return(pt)\n",
        "\n",
        "# zonal stats\n",
        "def zonal_ndvi(col):\n",
        "  ign = ee.Date(col.get('ignitiondate')) # ee.Date(col.get(....))\n",
        "  mon3 = ee.Date(col.get('prior3m_ign'))\n",
        "  img = l8ndvi.filterBounds(col.geometry()).filterDate(mon3, ign)\n",
        "\n",
        "  def zone(imgcol):\n",
        "      reg = imgcol.reduceRegion(\n",
        "          reducer=ee.Reducer.mean(),\n",
        "          geometry=col.geometry(),\n",
        "          scale=30\n",
        "      )\n",
        "      return ee.Feature(col.geometry(), reg)\n",
        "\n",
        "  zstat = img.map(zone)\n",
        "  return zstat\n",
        "\n"
      ]
    },
    {
      "cell_type": "code",
      "execution_count": 50,
      "id": "b2d32db6-6e10-47ba-ad88-bcfb450ec9d4",
      "metadata": {
        "tags": [],
        "id": "b2d32db6-6e10-47ba-ad88-bcfb450ec9d4",
        "outputId": "275aea61-9d95-469c-b2f3-f1ba7d17ad51",
        "colab": {
          "base_uri": "https://localhost:8080/",
          "height": 547
        }
      },
      "outputs": [
        {
          "output_type": "stream",
          "name": "stdout",
          "text": [
            "{'type': 'Feature', 'geometry': {'type': 'Point', 'coordinates': [-110.14301103197275, 33.41115237325928]}, 'id': '0000000000000000bc3e', 'properties': {'category': 'bronco gulch 566', 'fire': 'bronco gulch', 'fireID': 'AZ3338911013820190715', 'ignitiondate': '2019-07-15', 'objectid': 566, 'prior3m_ign': '2019-04-15'}}\n"
          ]
        },
        {
          "output_type": "error",
          "ename": "EEException",
          "evalue": "ignored",
          "traceback": [
            "\u001b[0;31m---------------------------------------------------------------------------\u001b[0m",
            "\u001b[0;31mHttpError\u001b[0m                                 Traceback (most recent call last)",
            "\u001b[0;32m/usr/local/lib/python3.10/dist-packages/ee/data.py\u001b[0m in \u001b[0;36m_execute_cloud_call\u001b[0;34m(call, num_retries)\u001b[0m\n\u001b[1;32m    370\u001b[0m   \u001b[0;32mtry\u001b[0m\u001b[0;34m:\u001b[0m\u001b[0;34m\u001b[0m\u001b[0;34m\u001b[0m\u001b[0m\n\u001b[0;32m--> 371\u001b[0;31m     \u001b[0;32mreturn\u001b[0m \u001b[0mcall\u001b[0m\u001b[0;34m.\u001b[0m\u001b[0mexecute\u001b[0m\u001b[0;34m(\u001b[0m\u001b[0mnum_retries\u001b[0m\u001b[0;34m=\u001b[0m\u001b[0mnum_retries\u001b[0m\u001b[0;34m)\u001b[0m\u001b[0;34m\u001b[0m\u001b[0;34m\u001b[0m\u001b[0m\n\u001b[0m\u001b[1;32m    372\u001b[0m   \u001b[0;32mexcept\u001b[0m \u001b[0mgoogleapiclient\u001b[0m\u001b[0;34m.\u001b[0m\u001b[0merrors\u001b[0m\u001b[0;34m.\u001b[0m\u001b[0mHttpError\u001b[0m \u001b[0;32mas\u001b[0m \u001b[0me\u001b[0m\u001b[0;34m:\u001b[0m\u001b[0;34m\u001b[0m\u001b[0;34m\u001b[0m\u001b[0m\n",
            "\u001b[0;32m/usr/local/lib/python3.10/dist-packages/googleapiclient/_helpers.py\u001b[0m in \u001b[0;36mpositional_wrapper\u001b[0;34m(*args, **kwargs)\u001b[0m\n\u001b[1;32m    129\u001b[0m                     \u001b[0mlogger\u001b[0m\u001b[0;34m.\u001b[0m\u001b[0mwarning\u001b[0m\u001b[0;34m(\u001b[0m\u001b[0mmessage\u001b[0m\u001b[0;34m)\u001b[0m\u001b[0;34m\u001b[0m\u001b[0;34m\u001b[0m\u001b[0m\n\u001b[0;32m--> 130\u001b[0;31m             \u001b[0;32mreturn\u001b[0m \u001b[0mwrapped\u001b[0m\u001b[0;34m(\u001b[0m\u001b[0;34m*\u001b[0m\u001b[0margs\u001b[0m\u001b[0;34m,\u001b[0m \u001b[0;34m**\u001b[0m\u001b[0mkwargs\u001b[0m\u001b[0;34m)\u001b[0m\u001b[0;34m\u001b[0m\u001b[0;34m\u001b[0m\u001b[0m\n\u001b[0m\u001b[1;32m    131\u001b[0m \u001b[0;34m\u001b[0m\u001b[0m\n",
            "\u001b[0;32m/usr/local/lib/python3.10/dist-packages/googleapiclient/http.py\u001b[0m in \u001b[0;36mexecute\u001b[0;34m(self, http, num_retries)\u001b[0m\n\u001b[1;32m    937\u001b[0m         \u001b[0;32mif\u001b[0m \u001b[0mresp\u001b[0m\u001b[0;34m.\u001b[0m\u001b[0mstatus\u001b[0m \u001b[0;34m>=\u001b[0m \u001b[0;36m300\u001b[0m\u001b[0;34m:\u001b[0m\u001b[0;34m\u001b[0m\u001b[0;34m\u001b[0m\u001b[0m\n\u001b[0;32m--> 938\u001b[0;31m             \u001b[0;32mraise\u001b[0m \u001b[0mHttpError\u001b[0m\u001b[0;34m(\u001b[0m\u001b[0mresp\u001b[0m\u001b[0;34m,\u001b[0m \u001b[0mcontent\u001b[0m\u001b[0;34m,\u001b[0m \u001b[0muri\u001b[0m\u001b[0;34m=\u001b[0m\u001b[0mself\u001b[0m\u001b[0;34m.\u001b[0m\u001b[0muri\u001b[0m\u001b[0;34m)\u001b[0m\u001b[0;34m\u001b[0m\u001b[0;34m\u001b[0m\u001b[0m\n\u001b[0m\u001b[1;32m    939\u001b[0m         \u001b[0;32mreturn\u001b[0m \u001b[0mself\u001b[0m\u001b[0;34m.\u001b[0m\u001b[0mpostproc\u001b[0m\u001b[0;34m(\u001b[0m\u001b[0mresp\u001b[0m\u001b[0;34m,\u001b[0m \u001b[0mcontent\u001b[0m\u001b[0;34m)\u001b[0m\u001b[0;34m\u001b[0m\u001b[0;34m\u001b[0m\u001b[0m\n",
            "\u001b[0;31mHttpError\u001b[0m: <HttpError 400 when requesting https://earthengine.googleapis.com/v1/projects/earthengine-legacy/value:compute?prettyPrint=false&alt=json returned \"Element.get: Parameter 'object' is required.\". Details: \"Element.get: Parameter 'object' is required.\">",
            "\nDuring handling of the above exception, another exception occurred:\n",
            "\u001b[0;31mEEException\u001b[0m                               Traceback (most recent call last)",
            "\u001b[0;32m<ipython-input-50-85e4dd32b5fe>\u001b[0m in \u001b[0;36m<cell line: 37>\u001b[0;34m()\u001b[0m\n\u001b[1;32m     35\u001b[0m \u001b[0mimg\u001b[0m \u001b[0;34m=\u001b[0m \u001b[0ml8ndvi\u001b[0m\u001b[0;34m.\u001b[0m\u001b[0mfilterDate\u001b[0m\u001b[0;34m(\u001b[0m\u001b[0mmon3\u001b[0m\u001b[0;34m,\u001b[0m \u001b[0mign\u001b[0m\u001b[0;34m)\u001b[0m\u001b[0;34m\u001b[0m\u001b[0;34m\u001b[0m\u001b[0m\n\u001b[1;32m     36\u001b[0m \u001b[0mimgfb\u001b[0m \u001b[0;34m=\u001b[0m \u001b[0mimg\u001b[0m\u001b[0;34m.\u001b[0m\u001b[0mfilterBounds\u001b[0m\u001b[0;34m(\u001b[0m\u001b[0mbufpts\u001b[0m\u001b[0;34m)\u001b[0m\u001b[0;34m\u001b[0m\u001b[0;34m\u001b[0m\u001b[0m\n\u001b[0;32m---> 37\u001b[0;31m \u001b[0mprint\u001b[0m\u001b[0;34m(\u001b[0m\u001b[0mimgfb\u001b[0m\u001b[0;34m.\u001b[0m\u001b[0msize\u001b[0m\u001b[0;34m(\u001b[0m\u001b[0;34m)\u001b[0m\u001b[0;34m.\u001b[0m\u001b[0mgetInfo\u001b[0m\u001b[0;34m(\u001b[0m\u001b[0;34m)\u001b[0m\u001b[0;34m)\u001b[0m\u001b[0;34m\u001b[0m\u001b[0;34m\u001b[0m\u001b[0m\n\u001b[0m\u001b[1;32m     38\u001b[0m \u001b[0;34m\u001b[0m\u001b[0m\n\u001b[1;32m     39\u001b[0m \u001b[0;31m# calculate mean\u001b[0m\u001b[0;34m\u001b[0m\u001b[0;34m\u001b[0m\u001b[0m\n",
            "\u001b[0;32m/usr/local/lib/python3.10/dist-packages/ee/computedobject.py\u001b[0m in \u001b[0;36mgetInfo\u001b[0;34m(self)\u001b[0m\n\u001b[1;32m    103\u001b[0m       \u001b[0mThe\u001b[0m \u001b[0mobject\u001b[0m \u001b[0mcan\u001b[0m \u001b[0mevaluate\u001b[0m \u001b[0mto\u001b[0m \u001b[0manything\u001b[0m\u001b[0;34m.\u001b[0m\u001b[0;34m\u001b[0m\u001b[0;34m\u001b[0m\u001b[0m\n\u001b[1;32m    104\u001b[0m     \"\"\"\n\u001b[0;32m--> 105\u001b[0;31m     \u001b[0;32mreturn\u001b[0m \u001b[0mdata\u001b[0m\u001b[0;34m.\u001b[0m\u001b[0mcomputeValue\u001b[0m\u001b[0;34m(\u001b[0m\u001b[0mself\u001b[0m\u001b[0;34m)\u001b[0m\u001b[0;34m\u001b[0m\u001b[0;34m\u001b[0m\u001b[0m\n\u001b[0m\u001b[1;32m    106\u001b[0m \u001b[0;34m\u001b[0m\u001b[0m\n\u001b[1;32m    107\u001b[0m   \u001b[0;32mdef\u001b[0m \u001b[0mencode\u001b[0m\u001b[0;34m(\u001b[0m\u001b[0mself\u001b[0m\u001b[0;34m,\u001b[0m \u001b[0mencoder\u001b[0m\u001b[0;34m:\u001b[0m \u001b[0mOptional\u001b[0m\u001b[0;34m[\u001b[0m\u001b[0mCallable\u001b[0m\u001b[0;34m[\u001b[0m\u001b[0;34m...\u001b[0m\u001b[0;34m,\u001b[0m \u001b[0mAny\u001b[0m\u001b[0;34m]\u001b[0m\u001b[0;34m]\u001b[0m\u001b[0;34m)\u001b[0m \u001b[0;34m->\u001b[0m \u001b[0mDict\u001b[0m\u001b[0;34m[\u001b[0m\u001b[0mstr\u001b[0m\u001b[0;34m,\u001b[0m \u001b[0mAny\u001b[0m\u001b[0;34m]\u001b[0m\u001b[0;34m:\u001b[0m\u001b[0;34m\u001b[0m\u001b[0;34m\u001b[0m\u001b[0m\n",
            "\u001b[0;32m/usr/local/lib/python3.10/dist-packages/ee/data.py\u001b[0m in \u001b[0;36mcomputeValue\u001b[0;34m(obj)\u001b[0m\n\u001b[1;32m   1068\u001b[0m   \u001b[0m_maybe_populate_workload_tag\u001b[0m\u001b[0;34m(\u001b[0m\u001b[0mbody\u001b[0m\u001b[0;34m)\u001b[0m\u001b[0;34m\u001b[0m\u001b[0;34m\u001b[0m\u001b[0m\n\u001b[1;32m   1069\u001b[0m \u001b[0;34m\u001b[0m\u001b[0m\n\u001b[0;32m-> 1070\u001b[0;31m   return _execute_cloud_call(\n\u001b[0m\u001b[1;32m   1071\u001b[0m       \u001b[0m_get_cloud_projects\u001b[0m\u001b[0;34m(\u001b[0m\u001b[0;34m)\u001b[0m\u001b[0;34m\u001b[0m\u001b[0;34m\u001b[0m\u001b[0m\n\u001b[1;32m   1072\u001b[0m       \u001b[0;34m.\u001b[0m\u001b[0mvalue\u001b[0m\u001b[0;34m(\u001b[0m\u001b[0;34m)\u001b[0m\u001b[0;34m\u001b[0m\u001b[0;34m\u001b[0m\u001b[0m\n",
            "\u001b[0;32m/usr/local/lib/python3.10/dist-packages/ee/data.py\u001b[0m in \u001b[0;36m_execute_cloud_call\u001b[0;34m(call, num_retries)\u001b[0m\n\u001b[1;32m    371\u001b[0m     \u001b[0;32mreturn\u001b[0m \u001b[0mcall\u001b[0m\u001b[0;34m.\u001b[0m\u001b[0mexecute\u001b[0m\u001b[0;34m(\u001b[0m\u001b[0mnum_retries\u001b[0m\u001b[0;34m=\u001b[0m\u001b[0mnum_retries\u001b[0m\u001b[0;34m)\u001b[0m\u001b[0;34m\u001b[0m\u001b[0;34m\u001b[0m\u001b[0m\n\u001b[1;32m    372\u001b[0m   \u001b[0;32mexcept\u001b[0m \u001b[0mgoogleapiclient\u001b[0m\u001b[0;34m.\u001b[0m\u001b[0merrors\u001b[0m\u001b[0;34m.\u001b[0m\u001b[0mHttpError\u001b[0m \u001b[0;32mas\u001b[0m \u001b[0me\u001b[0m\u001b[0;34m:\u001b[0m\u001b[0;34m\u001b[0m\u001b[0;34m\u001b[0m\u001b[0m\n\u001b[0;32m--> 373\u001b[0;31m     \u001b[0;32mraise\u001b[0m \u001b[0m_translate_cloud_exception\u001b[0m\u001b[0;34m(\u001b[0m\u001b[0me\u001b[0m\u001b[0;34m)\u001b[0m  \u001b[0;31m# pylint: disable=raise-missing-from\u001b[0m\u001b[0;34m\u001b[0m\u001b[0;34m\u001b[0m\u001b[0m\n\u001b[0m\u001b[1;32m    374\u001b[0m \u001b[0;34m\u001b[0m\u001b[0m\n\u001b[1;32m    375\u001b[0m \u001b[0;34m\u001b[0m\u001b[0m\n",
            "\u001b[0;31mEEException\u001b[0m: Element.get: Parameter 'object' is required."
          ]
        }
      ],
      "source": [
        "# testing\n",
        "'''\n",
        "bufpts = pts.map(buf)\n",
        "final = bufpts.map(zonal_ndvi)\n",
        "print(final.first().getInfo())\n",
        "flat = final.flatten()\n",
        "print(flat.first().getInfo())\n",
        "#export_index(flat, 'flat_test')\n",
        "'''\n",
        "\n",
        "\n",
        "\n",
        "# check to see if fire_ign imported correctly\n",
        "#ptx = pts.first()\n",
        "#print(ptx.getInfo())\n",
        "#print(pts.size().getInfo())\n",
        "\n",
        "# filter dataset to geographical area\n",
        "bound = l8ndvi.filterBounds(pts)\n",
        "#print(bound.size().getInfo())\n",
        "\n",
        "# create random sample\n",
        "import random\n",
        "all_indices = pts.aggregate_array('system:index').getInfo()\n",
        "rand = random.sample(all_indices, 10)\n",
        "\n",
        "tpts = pts.filter(ee.Filter.inList('system:index', rand))\n",
        "\n",
        "# buffer and filter\n",
        "tpt = ee.Feature(tpts.first())\n",
        "bufpts = tpt\n",
        "print(bufpts.getInfo())\n",
        "ign = ee.Date(bufpts.get('ignitiondate')) # ee.Date(col.get(....))\n",
        "mon3 = ee.Date(bufpts.get('prior3m_ign'))\n",
        "img = l8ndvi.filterDate(mon3, ign)\n",
        "imgfb = img.filterBounds(bufpts)\n",
        "print(imgfb.size().getInfo())\n",
        "\n",
        "# calculate mean\n",
        "def zone(imgcol):\n",
        "  reg = imgcol.reduceRegion(\n",
        "      reducer=ee.Reducer.mean(),\n",
        "      geometry=bufpts.geometry(),\n",
        "      scale=30\n",
        "      )\n",
        "  return bufpts.set(reg)\n",
        "\n",
        "\n",
        "'''\n",
        "if\n",
        "  zstat = ee.ImageCollection(img.toList(img.size())).map(zone)\n",
        "  print('greater than 0')\n",
        "else:\n",
        "  zstat = ee.FeatureCollection([])\n",
        "print(zstat.getInfo())\n",
        "'''\n",
        "\n",
        "# create a test feature\n",
        "#tpt = ee.Feature(ee.Geometry.Point([-112.2599178, 36.48981674])).set('objectid', '99').set('fire', 'castle').set('category', 'castle 99').set('ignitiondate', '2019-07-12').set('prior3m_ign', '2019-04-12')\n",
        "#print(tpt.getInfo())\n",
        "\n",
        "# can we add columns to feature colletion\n",
        "# add featrue tes\n",
        "\n",
        "# def add_feat(col):\n",
        "#     return(col.set('num', 1).set('char', 4))\n",
        "# pts2 = pts.map(add_feat)\n",
        "# pts2.first().getInfo()\n",
        "\n",
        "# f = ptx.get('fire')\n",
        "# ptx.getInfo()\n",
        "\n",
        "# pt = ee.Feature(ptx).buffer(15)\n",
        "# pt.getInfo()\n",
        "\n",
        "# start = pt.get('prior3m_ign')\n",
        "# end = pt.get('ignitiondate')\n",
        "# tndvi = l8ndvi.filterDate(start, end)\n",
        "# tndvi.first().getInfo()\n",
        "\n",
        "# test to see if buffer works\n",
        "# bufpts = pts.map(buf)\n",
        "\n",
        "\n",
        "# z = bufpts.map(zonal_ndvi)\n",
        "# z.first().getInfo()\n",
        "\n",
        "## testing data set\n",
        "#tpts = pts.limit(2)\n",
        "#buftpts = tpts.map(buf)\n",
        "#print('buffered')\n",
        "#z = buftpts.map(zonal_ndvi)\n",
        "#print('mapped')\n",
        "#z"
      ]
    },
    {
      "cell_type": "code",
      "execution_count": 5,
      "id": "e151d445-6260-47ee-a5c0-18265243d346",
      "metadata": {
        "tags": [],
        "id": "e151d445-6260-47ee-a5c0-18265243d346",
        "outputId": "522ddc4f-aa28-4403-a667-5dfb21824400",
        "colab": {
          "base_uri": "https://localhost:8080/",
          "height": 197
        }
      },
      "outputs": [
        {
          "output_type": "error",
          "ename": "TypeError",
          "evalue": "ignored",
          "traceback": [
            "\u001b[0;31m---------------------------------------------------------------------------\u001b[0m",
            "\u001b[0;31mTypeError\u001b[0m                                 Traceback (most recent call last)",
            "\u001b[0;32m<ipython-input-5-b79988821612>\u001b[0m in \u001b[0;36m<cell line: 1>\u001b[0;34m()\u001b[0m\n\u001b[0;32m----> 1\u001b[0;31m \u001b[0mhelp\u001b[0m\u001b[0;34m(\u001b[0m\u001b[0mee\u001b[0m\u001b[0;34m.\u001b[0m\u001b[0mImageCollection\u001b[0m\u001b[0;34m.\u001b[0m\u001b[0mfilterBounds\u001b[0m\u001b[0;34m(\u001b[0m\u001b[0;34m)\u001b[0m\u001b[0;34m)\u001b[0m\u001b[0;34m\u001b[0m\u001b[0;34m\u001b[0m\u001b[0m\n\u001b[0m",
            "\u001b[0;31mTypeError\u001b[0m: Collection.filterBounds() missing 2 required positional arguments: 'self' and 'geometry'"
          ]
        }
      ],
      "source": [
        "help(ee.ImageCollection.filterBounds())"
      ]
    }
  ],
  "metadata": {
    "kernelspec": {
      "display_name": "Python 3 (ipykernel)",
      "language": "python",
      "name": "python3"
    },
    "language_info": {
      "codemirror_mode": {
        "name": "ipython",
        "version": 3
      },
      "file_extension": ".py",
      "mimetype": "text/x-python",
      "name": "python",
      "nbconvert_exporter": "python",
      "pygments_lexer": "ipython3",
      "version": "3.10.9"
    },
    "colab": {
      "provenance": []
    }
  },
  "nbformat": 4,
  "nbformat_minor": 5
}